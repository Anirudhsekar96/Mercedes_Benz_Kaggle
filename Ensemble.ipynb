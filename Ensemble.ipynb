{
 "cells": [
  {
   "cell_type": "code",
   "execution_count": 1,
   "metadata": {
    "collapsed": true
   },
   "outputs": [],
   "source": [
    "import numpy as np \n",
    "import pandas as pd "
   ]
  },
  {
   "cell_type": "code",
   "execution_count": 2,
   "metadata": {},
   "outputs": [
    {
     "name": "stderr",
     "output_type": "stream",
     "text": [
      "/home/anirudh/anaconda/lib/python2.7/site-packages/sklearn/cross_validation.py:44: DeprecationWarning: This module was deprecated in version 0.18 in favor of the model_selection module into which all the refactored classes and functions are moved. Also note that the interface of the new CV iterators are different from that of this module. This module will be removed in 0.20.\n",
      "  \"This module will be removed in 0.20.\", DeprecationWarning)\n"
     ]
    }
   ],
   "source": [
    "import time\n",
    "from sklearn.metrics import r2_score\n",
    "from xgboost import XGBRegressor\n",
    "from sklearn.metrics import mean_absolute_error\n",
    "from sklearn.model_selection import cross_val_predict,cross_val_score\n",
    "from sklearn.metrics import mean_squared_error"
   ]
  },
  {
   "cell_type": "code",
   "execution_count": 3,
   "metadata": {
    "collapsed": true
   },
   "outputs": [],
   "source": [
    "import warnings\n",
    "warnings.filterwarnings('ignore')\n",
    "from multiprocessing import cpu_count\n",
    "\n",
    "# linear models: http://scikit-learn.org/stable/modules/linear_model.html#stochastic-gradient-descent-sgd\n",
    "from sklearn.linear_model import \\\n",
    "    LinearRegression, Ridge, Lasso, ElasticNet, \\\n",
    "    Lars, LassoLars, \\\n",
    "    OrthogonalMatchingPursuit, \\\n",
    "    BayesianRidge, ARDRegression, \\\n",
    "    SGDRegressor, \\\n",
    "    PassiveAggressiveRegressor, \\\n",
    "    RANSACRegressor, HuberRegressor\n",
    "\n",
    "from sklearn.kernel_ridge import KernelRidge\n",
    "from sklearn.preprocessing import StandardScaler\n",
    "\n",
    "# svm models: http://scikit-learn.org/stable/modules/svm.html\n",
    "from sklearn.svm import SVR, NuSVR, LinearSVR\n",
    "\n",
    "# neighbor models: http://scikit-learn.org/stable/modules/generated/sklearn.neighbors.RadiusNeighborsRegressor.html#sklearn.neighbors.RadiusNeighborsRegressor\n",
    "from sklearn.neighbors import RadiusNeighborsRegressor, KNeighborsRegressor\n",
    "\n",
    "from sklearn.gaussian_process import GaussianProcessRegressor\n",
    "from sklearn.gaussian_process.kernels import RBF, ConstantKernel, DotProduct, WhiteKernel\n",
    "from sklearn.neural_network import MLPRegressor\n",
    "\n",
    "from sklearn.ensemble import AdaBoostRegressor, ExtraTreesRegressor, RandomForestRegressor,BaggingRegressor,GradientBoostingRegressor\n",
    "from sklearn.tree import DecisionTreeRegressor\n"
   ]
  },
  {
   "cell_type": "code",
   "execution_count": 4,
   "metadata": {
    "collapsed": true
   },
   "outputs": [],
   "source": [
    "df_train = pd.read_csv(\"train.csv\")\n",
    "df_test = pd.read_csv(\"test.csv\")"
   ]
  },
  {
   "cell_type": "code",
   "execution_count": 5,
   "metadata": {},
   "outputs": [
    {
     "data": {
      "text/html": [
       "<div>\n",
       "<style>\n",
       "    .dataframe thead tr:only-child th {\n",
       "        text-align: right;\n",
       "    }\n",
       "\n",
       "    .dataframe thead th {\n",
       "        text-align: left;\n",
       "    }\n",
       "\n",
       "    .dataframe tbody tr th {\n",
       "        vertical-align: top;\n",
       "    }\n",
       "</style>\n",
       "<table border=\"1\" class=\"dataframe\">\n",
       "  <thead>\n",
       "    <tr style=\"text-align: right;\">\n",
       "      <th></th>\n",
       "      <th>ID</th>\n",
       "      <th>y</th>\n",
       "      <th>X0</th>\n",
       "      <th>X1</th>\n",
       "      <th>X2</th>\n",
       "      <th>X3</th>\n",
       "      <th>X4</th>\n",
       "      <th>X5</th>\n",
       "      <th>X6</th>\n",
       "      <th>X8</th>\n",
       "      <th>...</th>\n",
       "      <th>X375</th>\n",
       "      <th>X376</th>\n",
       "      <th>X377</th>\n",
       "      <th>X378</th>\n",
       "      <th>X379</th>\n",
       "      <th>X380</th>\n",
       "      <th>X382</th>\n",
       "      <th>X383</th>\n",
       "      <th>X384</th>\n",
       "      <th>X385</th>\n",
       "    </tr>\n",
       "  </thead>\n",
       "  <tbody>\n",
       "    <tr>\n",
       "      <th>0</th>\n",
       "      <td>0</td>\n",
       "      <td>130.81</td>\n",
       "      <td>k</td>\n",
       "      <td>v</td>\n",
       "      <td>at</td>\n",
       "      <td>a</td>\n",
       "      <td>d</td>\n",
       "      <td>u</td>\n",
       "      <td>j</td>\n",
       "      <td>o</td>\n",
       "      <td>...</td>\n",
       "      <td>0</td>\n",
       "      <td>0</td>\n",
       "      <td>1</td>\n",
       "      <td>0</td>\n",
       "      <td>0</td>\n",
       "      <td>0</td>\n",
       "      <td>0</td>\n",
       "      <td>0</td>\n",
       "      <td>0</td>\n",
       "      <td>0</td>\n",
       "    </tr>\n",
       "    <tr>\n",
       "      <th>1</th>\n",
       "      <td>6</td>\n",
       "      <td>88.53</td>\n",
       "      <td>k</td>\n",
       "      <td>t</td>\n",
       "      <td>av</td>\n",
       "      <td>e</td>\n",
       "      <td>d</td>\n",
       "      <td>y</td>\n",
       "      <td>l</td>\n",
       "      <td>o</td>\n",
       "      <td>...</td>\n",
       "      <td>1</td>\n",
       "      <td>0</td>\n",
       "      <td>0</td>\n",
       "      <td>0</td>\n",
       "      <td>0</td>\n",
       "      <td>0</td>\n",
       "      <td>0</td>\n",
       "      <td>0</td>\n",
       "      <td>0</td>\n",
       "      <td>0</td>\n",
       "    </tr>\n",
       "    <tr>\n",
       "      <th>2</th>\n",
       "      <td>7</td>\n",
       "      <td>76.26</td>\n",
       "      <td>az</td>\n",
       "      <td>w</td>\n",
       "      <td>n</td>\n",
       "      <td>c</td>\n",
       "      <td>d</td>\n",
       "      <td>x</td>\n",
       "      <td>j</td>\n",
       "      <td>x</td>\n",
       "      <td>...</td>\n",
       "      <td>0</td>\n",
       "      <td>0</td>\n",
       "      <td>0</td>\n",
       "      <td>0</td>\n",
       "      <td>0</td>\n",
       "      <td>0</td>\n",
       "      <td>1</td>\n",
       "      <td>0</td>\n",
       "      <td>0</td>\n",
       "      <td>0</td>\n",
       "    </tr>\n",
       "    <tr>\n",
       "      <th>3</th>\n",
       "      <td>9</td>\n",
       "      <td>80.62</td>\n",
       "      <td>az</td>\n",
       "      <td>t</td>\n",
       "      <td>n</td>\n",
       "      <td>f</td>\n",
       "      <td>d</td>\n",
       "      <td>x</td>\n",
       "      <td>l</td>\n",
       "      <td>e</td>\n",
       "      <td>...</td>\n",
       "      <td>0</td>\n",
       "      <td>0</td>\n",
       "      <td>0</td>\n",
       "      <td>0</td>\n",
       "      <td>0</td>\n",
       "      <td>0</td>\n",
       "      <td>0</td>\n",
       "      <td>0</td>\n",
       "      <td>0</td>\n",
       "      <td>0</td>\n",
       "    </tr>\n",
       "    <tr>\n",
       "      <th>4</th>\n",
       "      <td>13</td>\n",
       "      <td>78.02</td>\n",
       "      <td>az</td>\n",
       "      <td>v</td>\n",
       "      <td>n</td>\n",
       "      <td>f</td>\n",
       "      <td>d</td>\n",
       "      <td>h</td>\n",
       "      <td>d</td>\n",
       "      <td>n</td>\n",
       "      <td>...</td>\n",
       "      <td>0</td>\n",
       "      <td>0</td>\n",
       "      <td>0</td>\n",
       "      <td>0</td>\n",
       "      <td>0</td>\n",
       "      <td>0</td>\n",
       "      <td>0</td>\n",
       "      <td>0</td>\n",
       "      <td>0</td>\n",
       "      <td>0</td>\n",
       "    </tr>\n",
       "  </tbody>\n",
       "</table>\n",
       "<p>5 rows × 378 columns</p>\n",
       "</div>"
      ],
      "text/plain": [
       "   ID       y  X0 X1  X2 X3 X4 X5 X6 X8  ...   X375  X376  X377  X378  X379  \\\n",
       "0   0  130.81   k  v  at  a  d  u  j  o  ...      0     0     1     0     0   \n",
       "1   6   88.53   k  t  av  e  d  y  l  o  ...      1     0     0     0     0   \n",
       "2   7   76.26  az  w   n  c  d  x  j  x  ...      0     0     0     0     0   \n",
       "3   9   80.62  az  t   n  f  d  x  l  e  ...      0     0     0     0     0   \n",
       "4  13   78.02  az  v   n  f  d  h  d  n  ...      0     0     0     0     0   \n",
       "\n",
       "   X380  X382  X383  X384  X385  \n",
       "0     0     0     0     0     0  \n",
       "1     0     0     0     0     0  \n",
       "2     0     1     0     0     0  \n",
       "3     0     0     0     0     0  \n",
       "4     0     0     0     0     0  \n",
       "\n",
       "[5 rows x 378 columns]"
      ]
     },
     "execution_count": 5,
     "metadata": {},
     "output_type": "execute_result"
    }
   ],
   "source": [
    "df_train.head()"
   ]
  },
  {
   "cell_type": "code",
   "execution_count": 6,
   "metadata": {},
   "outputs": [
    {
     "data": {
      "text/html": [
       "<div>\n",
       "<style>\n",
       "    .dataframe thead tr:only-child th {\n",
       "        text-align: right;\n",
       "    }\n",
       "\n",
       "    .dataframe thead th {\n",
       "        text-align: left;\n",
       "    }\n",
       "\n",
       "    .dataframe tbody tr th {\n",
       "        vertical-align: top;\n",
       "    }\n",
       "</style>\n",
       "<table border=\"1\" class=\"dataframe\">\n",
       "  <thead>\n",
       "    <tr style=\"text-align: right;\">\n",
       "      <th></th>\n",
       "      <th>ID</th>\n",
       "      <th>X0</th>\n",
       "      <th>X1</th>\n",
       "      <th>X2</th>\n",
       "      <th>X3</th>\n",
       "      <th>X4</th>\n",
       "      <th>X5</th>\n",
       "      <th>X6</th>\n",
       "      <th>X8</th>\n",
       "      <th>X10</th>\n",
       "      <th>...</th>\n",
       "      <th>X375</th>\n",
       "      <th>X376</th>\n",
       "      <th>X377</th>\n",
       "      <th>X378</th>\n",
       "      <th>X379</th>\n",
       "      <th>X380</th>\n",
       "      <th>X382</th>\n",
       "      <th>X383</th>\n",
       "      <th>X384</th>\n",
       "      <th>X385</th>\n",
       "    </tr>\n",
       "  </thead>\n",
       "  <tbody>\n",
       "    <tr>\n",
       "      <th>0</th>\n",
       "      <td>1</td>\n",
       "      <td>az</td>\n",
       "      <td>v</td>\n",
       "      <td>n</td>\n",
       "      <td>f</td>\n",
       "      <td>d</td>\n",
       "      <td>t</td>\n",
       "      <td>a</td>\n",
       "      <td>w</td>\n",
       "      <td>0</td>\n",
       "      <td>...</td>\n",
       "      <td>0</td>\n",
       "      <td>0</td>\n",
       "      <td>0</td>\n",
       "      <td>1</td>\n",
       "      <td>0</td>\n",
       "      <td>0</td>\n",
       "      <td>0</td>\n",
       "      <td>0</td>\n",
       "      <td>0</td>\n",
       "      <td>0</td>\n",
       "    </tr>\n",
       "    <tr>\n",
       "      <th>1</th>\n",
       "      <td>2</td>\n",
       "      <td>t</td>\n",
       "      <td>b</td>\n",
       "      <td>ai</td>\n",
       "      <td>a</td>\n",
       "      <td>d</td>\n",
       "      <td>b</td>\n",
       "      <td>g</td>\n",
       "      <td>y</td>\n",
       "      <td>0</td>\n",
       "      <td>...</td>\n",
       "      <td>0</td>\n",
       "      <td>0</td>\n",
       "      <td>1</td>\n",
       "      <td>0</td>\n",
       "      <td>0</td>\n",
       "      <td>0</td>\n",
       "      <td>0</td>\n",
       "      <td>0</td>\n",
       "      <td>0</td>\n",
       "      <td>0</td>\n",
       "    </tr>\n",
       "    <tr>\n",
       "      <th>2</th>\n",
       "      <td>3</td>\n",
       "      <td>az</td>\n",
       "      <td>v</td>\n",
       "      <td>as</td>\n",
       "      <td>f</td>\n",
       "      <td>d</td>\n",
       "      <td>a</td>\n",
       "      <td>j</td>\n",
       "      <td>j</td>\n",
       "      <td>0</td>\n",
       "      <td>...</td>\n",
       "      <td>0</td>\n",
       "      <td>0</td>\n",
       "      <td>0</td>\n",
       "      <td>1</td>\n",
       "      <td>0</td>\n",
       "      <td>0</td>\n",
       "      <td>0</td>\n",
       "      <td>0</td>\n",
       "      <td>0</td>\n",
       "      <td>0</td>\n",
       "    </tr>\n",
       "    <tr>\n",
       "      <th>3</th>\n",
       "      <td>4</td>\n",
       "      <td>az</td>\n",
       "      <td>l</td>\n",
       "      <td>n</td>\n",
       "      <td>f</td>\n",
       "      <td>d</td>\n",
       "      <td>z</td>\n",
       "      <td>l</td>\n",
       "      <td>n</td>\n",
       "      <td>0</td>\n",
       "      <td>...</td>\n",
       "      <td>0</td>\n",
       "      <td>0</td>\n",
       "      <td>0</td>\n",
       "      <td>1</td>\n",
       "      <td>0</td>\n",
       "      <td>0</td>\n",
       "      <td>0</td>\n",
       "      <td>0</td>\n",
       "      <td>0</td>\n",
       "      <td>0</td>\n",
       "    </tr>\n",
       "    <tr>\n",
       "      <th>4</th>\n",
       "      <td>5</td>\n",
       "      <td>w</td>\n",
       "      <td>s</td>\n",
       "      <td>as</td>\n",
       "      <td>c</td>\n",
       "      <td>d</td>\n",
       "      <td>y</td>\n",
       "      <td>i</td>\n",
       "      <td>m</td>\n",
       "      <td>0</td>\n",
       "      <td>...</td>\n",
       "      <td>1</td>\n",
       "      <td>0</td>\n",
       "      <td>0</td>\n",
       "      <td>0</td>\n",
       "      <td>0</td>\n",
       "      <td>0</td>\n",
       "      <td>0</td>\n",
       "      <td>0</td>\n",
       "      <td>0</td>\n",
       "      <td>0</td>\n",
       "    </tr>\n",
       "  </tbody>\n",
       "</table>\n",
       "<p>5 rows × 377 columns</p>\n",
       "</div>"
      ],
      "text/plain": [
       "   ID  X0 X1  X2 X3 X4 X5 X6 X8  X10  ...   X375  X376  X377  X378  X379  \\\n",
       "0   1  az  v   n  f  d  t  a  w    0  ...      0     0     0     1     0   \n",
       "1   2   t  b  ai  a  d  b  g  y    0  ...      0     0     1     0     0   \n",
       "2   3  az  v  as  f  d  a  j  j    0  ...      0     0     0     1     0   \n",
       "3   4  az  l   n  f  d  z  l  n    0  ...      0     0     0     1     0   \n",
       "4   5   w  s  as  c  d  y  i  m    0  ...      1     0     0     0     0   \n",
       "\n",
       "   X380  X382  X383  X384  X385  \n",
       "0     0     0     0     0     0  \n",
       "1     0     0     0     0     0  \n",
       "2     0     0     0     0     0  \n",
       "3     0     0     0     0     0  \n",
       "4     0     0     0     0     0  \n",
       "\n",
       "[5 rows x 377 columns]"
      ]
     },
     "execution_count": 6,
     "metadata": {},
     "output_type": "execute_result"
    }
   ],
   "source": [
    "df_test.head()"
   ]
  },
  {
   "cell_type": "code",
   "execution_count": 7,
   "metadata": {
    "collapsed": true
   },
   "outputs": [],
   "source": [
    "y=df_train.y"
   ]
  },
  {
   "cell_type": "code",
   "execution_count": 8,
   "metadata": {},
   "outputs": [
    {
     "name": "stdout",
     "output_type": "stream",
     "text": [
      "Shape train: (4209, 378)\n",
      "Shape test: (4209, 377)\n"
     ]
    }
   ],
   "source": [
    "from sklearn.preprocessing import LabelEncoder\n",
    "train=df_train\n",
    "test=df_test\n",
    "\n",
    "for c in train.columns:\n",
    "    if train[c].dtype == 'object':\n",
    "        lbl = LabelEncoder() \n",
    "        lbl.fit(list(train[c].values) + list(test[c].values)) \n",
    "        train[c] = lbl.transform(list(train[c].values))\n",
    "        test[c] = lbl.transform(list(test[c].values))\n",
    "print('Shape train: {}\\nShape test: {}'.format(train.shape, test.shape))"
   ]
  },
  {
   "cell_type": "code",
   "execution_count": 9,
   "metadata": {
    "collapsed": true
   },
   "outputs": [],
   "source": [
    "from sklearn.preprocessing import StandardScaler\n",
    "ss = StandardScaler()\n",
    "X_train=ss.fit_transform(train.drop(['y'],axis=1))\n",
    "X_test=ss.fit_transform(test)"
   ]
  },
  {
   "cell_type": "code",
   "execution_count": 10,
   "metadata": {
    "collapsed": true
   },
   "outputs": [],
   "source": [
    "from sklearn.decomposition import PCA,FastICA\n",
    "\n",
    "\n",
    "pca = PCA(random_state=42)\n",
    "X_train_pca = pca.fit_transform(X_train)\n",
    "X_test_pca = pca.transform(X_test)\n",
    "\n",
    "ica = FastICA(random_state=42)\n",
    "X_train_ica = ica.fit_transform(X_train)\n",
    "X_test_ica = ica.transform(X_test)"
   ]
  },
  {
   "cell_type": "code",
   "execution_count": 11,
   "metadata": {
    "collapsed": true
   },
   "outputs": [],
   "source": [
    "for i in range(1, 15):\n",
    "    train['pca_' + str(i)] = X_train_pca[:,i-1]\n",
    "    test['pca_' + str(i)] = X_test_pca[:, i-1]\n",
    "    \n",
    "    train['ica_' + str(i)] = X_train_ica[:,i-1]\n",
    "    test['ica_' + str(i)] = X_test_ica[:, i-1]\n",
    "    \n",
    "ss2 = StandardScaler()\n",
    "train=ss.fit_transform(train.drop(['y'],axis=1))\n",
    "test=ss.fit_transform(test)"
   ]
  },
  {
   "cell_type": "code",
   "execution_count": 12,
   "metadata": {},
   "outputs": [
    {
     "name": "stdout",
     "output_type": "stream",
     "text": [
      "8\n"
     ]
    }
   ],
   "source": [
    "print(cpu_count())"
   ]
  },
  {
   "cell_type": "code",
   "execution_count": 13,
   "metadata": {},
   "outputs": [
    {
     "name": "stdout",
     "output_type": "stream",
     "text": [
      "[ 0.59374552  0.39011633  0.53308816  0.64038825  0.54880383  0.50938081\n",
      "  0.62626416  0.63605276]\n",
      "--- 24.419834137 seconds ---\n",
      "0.551461221632\n"
     ]
    }
   ],
   "source": [
    "clf_XG_L1 = XGBRegressor()\n",
    "start_time = time.time()\n",
    "score_XG_L1 = cross_val_score(clf_XG_L1,train,y,cv=8,n_jobs=-1)\n",
    "print(score_XG_L1)\n",
    "y_train_pred_XG_L1 = cross_val_predict(clf_XG_L1,train,y,cv=8,n_jobs=-1)\n",
    "print(\"--- %s seconds ---\" % (time.time() - start_time))\n",
    "print(r2_score(y,y_train_pred_XG_L1))\n",
    "R_XG_L1 = XGBRegressor()\n",
    "R_XG_L1.fit(train,y)\n",
    "y_pred_XG_L1 = R_XG_L1.predict(test)"
   ]
  },
  {
   "cell_type": "code",
   "execution_count": 14,
   "metadata": {},
   "outputs": [
    {
     "name": "stdout",
     "output_type": "stream",
     "text": [
      "[ 0.41885815  0.28395392  0.39750951  0.43527938  0.40232534  0.37517053\n",
      "  0.45474066  0.41897339]\n",
      "--- 4.82286000252 seconds ---\n",
      "0.395506089965\n"
     ]
    }
   ],
   "source": [
    "clf_KN_L1 = KNeighborsRegressor(n_neighbors=25)\n",
    "start_time = time.time()\n",
    "score_KN_L1 = cross_val_score(clf_KN_L1,train,y,cv=8,n_jobs=-1)\n",
    "print(score_KN_L1)\n",
    "y_train_pred_KN_L1 = cross_val_predict(clf_KN_L1,train,y,cv=8,n_jobs=-1)\n",
    "print(\"--- %s seconds ---\" % (time.time() - start_time))\n",
    "print(r2_score(y,y_train_pred_KN_L1))\n",
    "R_KN_L1 = KNeighborsRegressor(n_neighbors=25)\n",
    "R_KN_L1.fit(train,y)\n",
    "y_pred_KN_L1 = R_KN_L1.predict(test)"
   ]
  },
  {
   "cell_type": "code",
   "execution_count": 15,
   "metadata": {},
   "outputs": [
    {
     "name": "stdout",
     "output_type": "stream",
     "text": [
      "[ 0.50392989  0.32551714  0.46309312  0.51546715  0.4591914   0.43321483\n",
      "  0.53662897  0.49407449]\n",
      "--- 5.90564012527 seconds ---\n",
      "0.461495933769\n"
     ]
    }
   ],
   "source": [
    "clf_RF_L1 = RandomForestRegressor()\n",
    "start_time = time.time()\n",
    "score_RF_L1 = cross_val_score(clf_RF_L1,train,y,cv=8,n_jobs=-1)\n",
    "print(score_RF_L1)\n",
    "y_train_pred_RF_L1 = cross_val_predict(clf_RF_L1,train,y,cv=8,n_jobs=-1)\n",
    "print(\"--- %s seconds ---\" % (time.time() - start_time))\n",
    "print(r2_score(y,y_train_pred_RF_L1))\n",
    "R_RF_L1 = RandomForestRegressor()\n",
    "R_RF_L1.fit(train,y)\n",
    "y_pred_RF_L1 = R_RF_L1.predict(test)"
   ]
  },
  {
   "cell_type": "code",
   "execution_count": 16,
   "metadata": {},
   "outputs": [
    {
     "name": "stdout",
     "output_type": "stream",
     "text": [
      "[ 0.40476346  0.2923083   0.47371853  0.34931667  0.40001782  0.36023013\n",
      "  0.50347527  0.37577696]\n",
      "--- 7.23175621033 seconds ---\n",
      "0.394729101833\n"
     ]
    }
   ],
   "source": [
    "clf_ETR_L1 = ExtraTreesRegressor()\n",
    "start_time = time.time()\n",
    "score_ETR_L1 = cross_val_score(clf_ETR_L1,train,y,cv=8,n_jobs=-1)\n",
    "print(score_ETR_L1)\n",
    "y_train_pred_ETR_L1 = cross_val_predict(clf_ETR_L1,train,y,cv=8,n_jobs=-1)\n",
    "print(\"--- %s seconds ---\" % (time.time() - start_time))\n",
    "print(r2_score(y,y_train_pred_ETR_L1))\n",
    "R_ETR_L1 = ExtraTreesRegressor()\n",
    "R_ETR_L1.fit(train,y)\n",
    "y_pred_ETR_L1 = R_ETR_L1.predict(test)"
   ]
  },
  {
   "cell_type": "code",
   "execution_count": 18,
   "metadata": {},
   "outputs": [
    {
     "name": "stdout",
     "output_type": "stream",
     "text": [
      "[ 0.48893936  0.3383312   0.47194557  0.54396562  0.4529762   0.39511285\n",
      "  0.47361379  0.51206507]\n",
      "--- 6.02016806602 seconds ---\n",
      "0.455485167182\n"
     ]
    }
   ],
   "source": [
    "clf_BR_L1 = BaggingRegressor()\n",
    "start_time = time.time()\n",
    "score_BR_L1 = cross_val_score(clf_BR_L1,train,y,cv=8,n_jobs=-1)\n",
    "print(score_BR_L1)\n",
    "y_train_pred_BR_L1 = cross_val_predict(clf_BR_L1,train,y,cv=8,n_jobs=-1)\n",
    "print(\"--- %s seconds ---\" % (time.time() - start_time))\n",
    "print(r2_score(y,y_train_pred_BR_L1))\n",
    "R_BR_L1 = BaggingRegressor()\n",
    "R_BR_L1.fit(train,y)\n",
    "y_pred_BR_L1 = R_BR_L1.predict(test)"
   ]
  },
  {
   "cell_type": "code",
   "execution_count": 19,
   "metadata": {},
   "outputs": [
    {
     "name": "stdout",
     "output_type": "stream",
     "text": [
      "[ 0.58037849  0.38904395  0.54113272  0.63517252  0.5399209   0.50983258\n",
      "  0.62389031  0.59097092]\n",
      "--- 37.724613905 seconds ---\n",
      "0.544133963733\n"
     ]
    }
   ],
   "source": [
    "clf_GBR_L1 = GradientBoostingRegressor()\n",
    "start_time = time.time()\n",
    "score_GBR_L1 = cross_val_score(clf_GBR_L1,train,y,cv=8,n_jobs=-1)\n",
    "print(score_GBR_L1)\n",
    "y_train_pred_GBR_L1 = cross_val_predict(clf_GBR_L1,train,y,cv=8,n_jobs=-1)\n",
    "print(\"--- %s seconds ---\" % (time.time() - start_time))\n",
    "print(r2_score(y,y_train_pred_GBR_L1))\n",
    "R_GBR_L1 = GradientBoostingRegressor()\n",
    "R_GBR_L1.fit(train,y)\n",
    "y_pred_GBR_L1 = R_GBR_L1.predict(test)"
   ]
  },
  {
   "cell_type": "code",
   "execution_count": 20,
   "metadata": {},
   "outputs": [
    {
     "name": "stdout",
     "output_type": "stream",
     "text": [
      "0.539050206716\n"
     ]
    }
   ],
   "source": [
    "y_train_l1_avg = (y_train_pred_GBR_L1+y_train_pred_RF_L1+y_train_pred_KN_L1+y_train_pred_XG_L1)/4.0000\n",
    "print(r2_score(y,y_train_l1_avg))"
   ]
  },
  {
   "cell_type": "code",
   "execution_count": 21,
   "metadata": {
    "collapsed": true
   },
   "outputs": [],
   "source": [
    "train_l1 = pd.DataFrame(data=train)\n",
    "test_l1 = pd.DataFrame(data=test)\n",
    "\n",
    "#train_l1['GBR'] = y_train_pred_GBR_L1\n",
    "#train_l1['BR'] = y_train_pred_BR_L1\n",
    "#train_l1['RF'] = y_train_pred_RF_L1\n",
    "#train_l1['ETR'] = y_train_pred_ETR_L1\n",
    "train_l1['KN'] = y_train_pred_KN_L1\n",
    "train_l1['XGB'] = y_train_pred_XG_L1\n",
    "\n",
    "\n",
    "#test_l1['GBR'] = y_pred_GBR_L1\n",
    "#test_l1['BR'] = y_pred_BR_L1\n",
    "#test_l1['RF'] = y_pred_RF_L1\n",
    "#test_l1['ETR'] = y_pred_ETR_L1\n",
    "test_l1['KN'] = y_pred_KN_L1\n",
    "test_l1['XGB'] = y_pred_XG_L1"
   ]
  },
  {
   "cell_type": "code",
   "execution_count": 22,
   "metadata": {},
   "outputs": [
    {
     "name": "stdout",
     "output_type": "stream",
     "text": [
      "[ 0.59044316  0.38050689  0.51653222  0.61693053  0.52586445  0.48512132\n",
      "  0.55164849  0.59267581]\n",
      "--- 63.6944777966 seconds ---\n",
      "0.526400612951\n"
     ]
    }
   ],
   "source": [
    "clf_XG_L2 = XGBRegressor(max_depth =3,n_estimators=300)\n",
    "start_time = time.time()\n",
    "score_XG_L2 = cross_val_score(clf_XG_L2,train_l1,y,cv=8,n_jobs=-1)\n",
    "print(score_XG_L2)\n",
    "y_train_pred_XG_L2 = cross_val_predict(clf_XG_L2,train_l1,y,cv=8,n_jobs=-1)\n",
    "print(\"--- %s seconds ---\" % (time.time() - start_time))\n",
    "print(r2_score(y,y_train_pred_XG_L2))\n",
    "R_XG_L2 = XGBRegressor(max_depth =3,n_estimators=300)\n",
    "R_XG_L2.fit(train_l1,y)\n",
    "y_pred_XG_L2 = R_XG_L2.predict(test_l1)"
   ]
  },
  {
   "cell_type": "code",
   "execution_count": 23,
   "metadata": {
    "scrolled": true
   },
   "outputs": [
    {
     "data": {
      "image/png": "[encoded data removed]",
      "text/plain": [
       "<matplotlib.figure.Figure at 0x7fc153dc3310>"
      ]
     },
     "metadata": {},
     "output_type": "display_data"
    }
   ],
   "source": [
    "from xgboost import plot_importance\n",
    "import matplotlib.pyplot as plt\n",
    "plot_importance(R_XG_L2)\n",
    "plt.show()\n",
    "#print(R_XG_L1.feature_importances_)"
   ]
  },
  {
   "cell_type": "code",
   "execution_count": 24,
   "metadata": {
    "collapsed": true
   },
   "outputs": [],
   "source": [
    "output = pd.DataFrame({'id': df_test['ID'].astype(np.int32), 'y': y_pred_XG_L2})\n",
    "output.to_csv('tr3.csv', index=False)"
   ]
  },
  {
   "cell_type": "code",
   "execution_count": null,
   "metadata": {
    "collapsed": true
   },
   "outputs": [],
   "source": []
  },
  {
   "cell_type": "code",
   "execution_count": null,
   "metadata": {
    "collapsed": true
   },
   "outputs": [],
   "source": []
  },
  {
   "cell_type": "code",
   "execution_count": null,
   "metadata": {
    "collapsed": true
   },
   "outputs": [],
   "source": []
  },
  {
   "cell_type": "code",
   "execution_count": null,
   "metadata": {
    "collapsed": true
   },
   "outputs": [],
   "source": []
  },
  {
   "cell_type": "code",
   "execution_count": null,
   "metadata": {
    "collapsed": true
   },
   "outputs": [],
   "source": []
  },
  {
   "cell_type": "code",
   "execution_count": null,
   "metadata": {
    "collapsed": true
   },
   "outputs": [],
   "source": []
  },
  {
   "cell_type": "code",
   "execution_count": null,
   "metadata": {
    "collapsed": true
   },
   "outputs": [],
   "source": []
  }
 ],
 "metadata": {
  "kernelspec": {
   "display_name": "Python 2",
   "language": "python",
   "name": "python2"
  },
  "language_info": {
   "codemirror_mode": {
    "name": "ipython",
    "version": 2
   },
   "file_extension": ".py",
   "mimetype": "text/x-python",
   "name": "python",
   "nbconvert_exporter": "python",
   "pygments_lexer": "ipython2",
   "version": "2.7.13"
  }
 },
 "nbformat": 4,
 "nbformat_minor": 2
}
