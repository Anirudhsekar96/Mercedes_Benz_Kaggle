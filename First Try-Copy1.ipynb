{
 "cells": [
  {
   "cell_type": "code",
   "execution_count": 1,
   "metadata": {
    "collapsed": true
   },
   "outputs": [],
   "source": [
    "import numpy as np \n",
    "import pandas as pd "
   ]
  },
  {
   "cell_type": "code",
   "execution_count": 2,
   "metadata": {
    "collapsed": true
   },
   "outputs": [],
   "source": [
    "df_train = pd.read_csv(\"train.csv\")\n",
    "df_test = pd.read_csv(\"test.csv\")"
   ]
  },
  {
   "cell_type": "code",
   "execution_count": 3,
   "metadata": {},
   "outputs": [
    {
     "data": {
      "text/html": [
       "<div>\n",
       "<style>\n",
       "    .dataframe thead tr:only-child th {\n",
       "        text-align: right;\n",
       "    }\n",
       "\n",
       "    .dataframe thead th {\n",
       "        text-align: left;\n",
       "    }\n",
       "\n",
       "    .dataframe tbody tr th {\n",
       "        vertical-align: top;\n",
       "    }\n",
       "</style>\n",
       "<table border=\"1\" class=\"dataframe\">\n",
       "  <thead>\n",
       "    <tr style=\"text-align: right;\">\n",
       "      <th></th>\n",
       "      <th>ID</th>\n",
       "      <th>y</th>\n",
       "      <th>X0</th>\n",
       "      <th>X1</th>\n",
       "      <th>X2</th>\n",
       "      <th>X3</th>\n",
       "      <th>X4</th>\n",
       "      <th>X5</th>\n",
       "      <th>X6</th>\n",
       "      <th>X8</th>\n",
       "      <th>...</th>\n",
       "      <th>X375</th>\n",
       "      <th>X376</th>\n",
       "      <th>X377</th>\n",
       "      <th>X378</th>\n",
       "      <th>X379</th>\n",
       "      <th>X380</th>\n",
       "      <th>X382</th>\n",
       "      <th>X383</th>\n",
       "      <th>X384</th>\n",
       "      <th>X385</th>\n",
       "    </tr>\n",
       "  </thead>\n",
       "  <tbody>\n",
       "    <tr>\n",
       "      <th>0</th>\n",
       "      <td>0</td>\n",
       "      <td>130.81</td>\n",
       "      <td>k</td>\n",
       "      <td>v</td>\n",
       "      <td>at</td>\n",
       "      <td>a</td>\n",
       "      <td>d</td>\n",
       "      <td>u</td>\n",
       "      <td>j</td>\n",
       "      <td>o</td>\n",
       "      <td>...</td>\n",
       "      <td>0</td>\n",
       "      <td>0</td>\n",
       "      <td>1</td>\n",
       "      <td>0</td>\n",
       "      <td>0</td>\n",
       "      <td>0</td>\n",
       "      <td>0</td>\n",
       "      <td>0</td>\n",
       "      <td>0</td>\n",
       "      <td>0</td>\n",
       "    </tr>\n",
       "    <tr>\n",
       "      <th>1</th>\n",
       "      <td>6</td>\n",
       "      <td>88.53</td>\n",
       "      <td>k</td>\n",
       "      <td>t</td>\n",
       "      <td>av</td>\n",
       "      <td>e</td>\n",
       "      <td>d</td>\n",
       "      <td>y</td>\n",
       "      <td>l</td>\n",
       "      <td>o</td>\n",
       "      <td>...</td>\n",
       "      <td>1</td>\n",
       "      <td>0</td>\n",
       "      <td>0</td>\n",
       "      <td>0</td>\n",
       "      <td>0</td>\n",
       "      <td>0</td>\n",
       "      <td>0</td>\n",
       "      <td>0</td>\n",
       "      <td>0</td>\n",
       "      <td>0</td>\n",
       "    </tr>\n",
       "    <tr>\n",
       "      <th>2</th>\n",
       "      <td>7</td>\n",
       "      <td>76.26</td>\n",
       "      <td>az</td>\n",
       "      <td>w</td>\n",
       "      <td>n</td>\n",
       "      <td>c</td>\n",
       "      <td>d</td>\n",
       "      <td>x</td>\n",
       "      <td>j</td>\n",
       "      <td>x</td>\n",
       "      <td>...</td>\n",
       "      <td>0</td>\n",
       "      <td>0</td>\n",
       "      <td>0</td>\n",
       "      <td>0</td>\n",
       "      <td>0</td>\n",
       "      <td>0</td>\n",
       "      <td>1</td>\n",
       "      <td>0</td>\n",
       "      <td>0</td>\n",
       "      <td>0</td>\n",
       "    </tr>\n",
       "    <tr>\n",
       "      <th>3</th>\n",
       "      <td>9</td>\n",
       "      <td>80.62</td>\n",
       "      <td>az</td>\n",
       "      <td>t</td>\n",
       "      <td>n</td>\n",
       "      <td>f</td>\n",
       "      <td>d</td>\n",
       "      <td>x</td>\n",
       "      <td>l</td>\n",
       "      <td>e</td>\n",
       "      <td>...</td>\n",
       "      <td>0</td>\n",
       "      <td>0</td>\n",
       "      <td>0</td>\n",
       "      <td>0</td>\n",
       "      <td>0</td>\n",
       "      <td>0</td>\n",
       "      <td>0</td>\n",
       "      <td>0</td>\n",
       "      <td>0</td>\n",
       "      <td>0</td>\n",
       "    </tr>\n",
       "    <tr>\n",
       "      <th>4</th>\n",
       "      <td>13</td>\n",
       "      <td>78.02</td>\n",
       "      <td>az</td>\n",
       "      <td>v</td>\n",
       "      <td>n</td>\n",
       "      <td>f</td>\n",
       "      <td>d</td>\n",
       "      <td>h</td>\n",
       "      <td>d</td>\n",
       "      <td>n</td>\n",
       "      <td>...</td>\n",
       "      <td>0</td>\n",
       "      <td>0</td>\n",
       "      <td>0</td>\n",
       "      <td>0</td>\n",
       "      <td>0</td>\n",
       "      <td>0</td>\n",
       "      <td>0</td>\n",
       "      <td>0</td>\n",
       "      <td>0</td>\n",
       "      <td>0</td>\n",
       "    </tr>\n",
       "  </tbody>\n",
       "</table>\n",
       "<p>5 rows × 378 columns</p>\n",
       "</div>"
      ],
      "text/plain": [
       "   ID       y  X0 X1  X2 X3 X4 X5 X6 X8  ...   X375  X376  X377  X378  X379  \\\n",
       "0   0  130.81   k  v  at  a  d  u  j  o  ...      0     0     1     0     0   \n",
       "1   6   88.53   k  t  av  e  d  y  l  o  ...      1     0     0     0     0   \n",
       "2   7   76.26  az  w   n  c  d  x  j  x  ...      0     0     0     0     0   \n",
       "3   9   80.62  az  t   n  f  d  x  l  e  ...      0     0     0     0     0   \n",
       "4  13   78.02  az  v   n  f  d  h  d  n  ...      0     0     0     0     0   \n",
       "\n",
       "   X380  X382  X383  X384  X385  \n",
       "0     0     0     0     0     0  \n",
       "1     0     0     0     0     0  \n",
       "2     0     1     0     0     0  \n",
       "3     0     0     0     0     0  \n",
       "4     0     0     0     0     0  \n",
       "\n",
       "[5 rows x 378 columns]"
      ]
     },
     "execution_count": 3,
     "metadata": {},
     "output_type": "execute_result"
    }
   ],
   "source": [
    "df_train.head()"
   ]
  },
  {
   "cell_type": "code",
   "execution_count": 4,
   "metadata": {},
   "outputs": [
    {
     "data": {
      "text/html": [
       "<div>\n",
       "<style>\n",
       "    .dataframe thead tr:only-child th {\n",
       "        text-align: right;\n",
       "    }\n",
       "\n",
       "    .dataframe thead th {\n",
       "        text-align: left;\n",
       "    }\n",
       "\n",
       "    .dataframe tbody tr th {\n",
       "        vertical-align: top;\n",
       "    }\n",
       "</style>\n",
       "<table border=\"1\" class=\"dataframe\">\n",
       "  <thead>\n",
       "    <tr style=\"text-align: right;\">\n",
       "      <th></th>\n",
       "      <th>ID</th>\n",
       "      <th>X0</th>\n",
       "      <th>X1</th>\n",
       "      <th>X2</th>\n",
       "      <th>X3</th>\n",
       "      <th>X4</th>\n",
       "      <th>X5</th>\n",
       "      <th>X6</th>\n",
       "      <th>X8</th>\n",
       "      <th>X10</th>\n",
       "      <th>...</th>\n",
       "      <th>X375</th>\n",
       "      <th>X376</th>\n",
       "      <th>X377</th>\n",
       "      <th>X378</th>\n",
       "      <th>X379</th>\n",
       "      <th>X380</th>\n",
       "      <th>X382</th>\n",
       "      <th>X383</th>\n",
       "      <th>X384</th>\n",
       "      <th>X385</th>\n",
       "    </tr>\n",
       "  </thead>\n",
       "  <tbody>\n",
       "    <tr>\n",
       "      <th>0</th>\n",
       "      <td>1</td>\n",
       "      <td>az</td>\n",
       "      <td>v</td>\n",
       "      <td>n</td>\n",
       "      <td>f</td>\n",
       "      <td>d</td>\n",
       "      <td>t</td>\n",
       "      <td>a</td>\n",
       "      <td>w</td>\n",
       "      <td>0</td>\n",
       "      <td>...</td>\n",
       "      <td>0</td>\n",
       "      <td>0</td>\n",
       "      <td>0</td>\n",
       "      <td>1</td>\n",
       "      <td>0</td>\n",
       "      <td>0</td>\n",
       "      <td>0</td>\n",
       "      <td>0</td>\n",
       "      <td>0</td>\n",
       "      <td>0</td>\n",
       "    </tr>\n",
       "    <tr>\n",
       "      <th>1</th>\n",
       "      <td>2</td>\n",
       "      <td>t</td>\n",
       "      <td>b</td>\n",
       "      <td>ai</td>\n",
       "      <td>a</td>\n",
       "      <td>d</td>\n",
       "      <td>b</td>\n",
       "      <td>g</td>\n",
       "      <td>y</td>\n",
       "      <td>0</td>\n",
       "      <td>...</td>\n",
       "      <td>0</td>\n",
       "      <td>0</td>\n",
       "      <td>1</td>\n",
       "      <td>0</td>\n",
       "      <td>0</td>\n",
       "      <td>0</td>\n",
       "      <td>0</td>\n",
       "      <td>0</td>\n",
       "      <td>0</td>\n",
       "      <td>0</td>\n",
       "    </tr>\n",
       "    <tr>\n",
       "      <th>2</th>\n",
       "      <td>3</td>\n",
       "      <td>az</td>\n",
       "      <td>v</td>\n",
       "      <td>as</td>\n",
       "      <td>f</td>\n",
       "      <td>d</td>\n",
       "      <td>a</td>\n",
       "      <td>j</td>\n",
       "      <td>j</td>\n",
       "      <td>0</td>\n",
       "      <td>...</td>\n",
       "      <td>0</td>\n",
       "      <td>0</td>\n",
       "      <td>0</td>\n",
       "      <td>1</td>\n",
       "      <td>0</td>\n",
       "      <td>0</td>\n",
       "      <td>0</td>\n",
       "      <td>0</td>\n",
       "      <td>0</td>\n",
       "      <td>0</td>\n",
       "    </tr>\n",
       "    <tr>\n",
       "      <th>3</th>\n",
       "      <td>4</td>\n",
       "      <td>az</td>\n",
       "      <td>l</td>\n",
       "      <td>n</td>\n",
       "      <td>f</td>\n",
       "      <td>d</td>\n",
       "      <td>z</td>\n",
       "      <td>l</td>\n",
       "      <td>n</td>\n",
       "      <td>0</td>\n",
       "      <td>...</td>\n",
       "      <td>0</td>\n",
       "      <td>0</td>\n",
       "      <td>0</td>\n",
       "      <td>1</td>\n",
       "      <td>0</td>\n",
       "      <td>0</td>\n",
       "      <td>0</td>\n",
       "      <td>0</td>\n",
       "      <td>0</td>\n",
       "      <td>0</td>\n",
       "    </tr>\n",
       "    <tr>\n",
       "      <th>4</th>\n",
       "      <td>5</td>\n",
       "      <td>w</td>\n",
       "      <td>s</td>\n",
       "      <td>as</td>\n",
       "      <td>c</td>\n",
       "      <td>d</td>\n",
       "      <td>y</td>\n",
       "      <td>i</td>\n",
       "      <td>m</td>\n",
       "      <td>0</td>\n",
       "      <td>...</td>\n",
       "      <td>1</td>\n",
       "      <td>0</td>\n",
       "      <td>0</td>\n",
       "      <td>0</td>\n",
       "      <td>0</td>\n",
       "      <td>0</td>\n",
       "      <td>0</td>\n",
       "      <td>0</td>\n",
       "      <td>0</td>\n",
       "      <td>0</td>\n",
       "    </tr>\n",
       "  </tbody>\n",
       "</table>\n",
       "<p>5 rows × 377 columns</p>\n",
       "</div>"
      ],
      "text/plain": [
       "   ID  X0 X1  X2 X3 X4 X5 X6 X8  X10  ...   X375  X376  X377  X378  X379  \\\n",
       "0   1  az  v   n  f  d  t  a  w    0  ...      0     0     0     1     0   \n",
       "1   2   t  b  ai  a  d  b  g  y    0  ...      0     0     1     0     0   \n",
       "2   3  az  v  as  f  d  a  j  j    0  ...      0     0     0     1     0   \n",
       "3   4  az  l   n  f  d  z  l  n    0  ...      0     0     0     1     0   \n",
       "4   5   w  s  as  c  d  y  i  m    0  ...      1     0     0     0     0   \n",
       "\n",
       "   X380  X382  X383  X384  X385  \n",
       "0     0     0     0     0     0  \n",
       "1     0     0     0     0     0  \n",
       "2     0     0     0     0     0  \n",
       "3     0     0     0     0     0  \n",
       "4     0     0     0     0     0  \n",
       "\n",
       "[5 rows x 377 columns]"
      ]
     },
     "execution_count": 4,
     "metadata": {},
     "output_type": "execute_result"
    }
   ],
   "source": [
    "df_test.head()"
   ]
  },
  {
   "cell_type": "code",
   "execution_count": 5,
   "metadata": {},
   "outputs": [
    {
     "name": "stdout",
     "output_type": "stream",
     "text": [
      "<class 'pandas.core.frame.DataFrame'>\n",
      "RangeIndex: 4209 entries, 0 to 4208\n",
      "Columns: 565 entries, ID to X8_y\n",
      "dtypes: float64(1), int64(369), uint8(195)\n",
      "memory usage: 12.7 MB\n"
     ]
    }
   ],
   "source": []
  },
  {
   "cell_type": "code",
   "execution_count": 6,
   "metadata": {},
   "outputs": [
    {
     "name": "stdout",
     "output_type": "stream",
     "text": [
      "<class 'pandas.core.frame.DataFrame'>\n",
      "RangeIndex: 4209 entries, 0 to 4208\n",
      "Columns: 570 entries, ID to X8_y\n",
      "dtypes: int64(369), uint8(201)\n",
      "memory usage: 12.7 MB\n"
     ]
    }
   ],
   "source": []
  },
  {
   "cell_type": "code",
   "execution_count": 9,
   "metadata": {},
   "outputs": [
    {
     "name": "stdout",
     "output_type": "stream",
     "text": [
      "Shape train: (4209, 378)\n",
      "Shape test: (4209, 377)\n"
     ]
    }
   ],
   "source": [
    "from sklearn.preprocessing import LabelEncoder\n",
    "train=df_train\n",
    "test=df_test\n",
    "\n",
    "for c in train.columns:\n",
    "    if train[c].dtype == 'object':\n",
    "        lbl = LabelEncoder() \n",
    "        lbl.fit(list(train[c].values) + list(test[c].values)) \n",
    "        train[c] = lbl.transform(list(train[c].values))\n",
    "        test[c] = lbl.transform(list(test[c].values))\n",
    "print('Shape train: {}\\nShape test: {}'.format(train.shape, test.shape))"
   ]
  },
  {
   "cell_type": "code",
   "execution_count": 10,
   "metadata": {
    "collapsed": true
   },
   "outputs": [],
   "source": []
  },
  {
   "cell_type": "code",
   "execution_count": 115,
   "metadata": {
    "collapsed": true
   },
   "outputs": [],
   "source": []
  },
  {
   "cell_type": "code",
   "execution_count": 116,
   "metadata": {},
   "outputs": [
    {
     "name": "stdout",
     "output_type": "stream",
     "text": [
      "['ID', 'X10', 'X11', 'X12', 'X13', 'X14', 'X15', 'X16', 'X17', 'X18', 'X19', 'X20', 'X21', 'X22', 'X23', 'X24', 'X26', 'X27', 'X28', 'X29', 'X30', 'X31', 'X32', 'X33', 'X34', 'X35', 'X36', 'X37', 'X38', 'X39', 'X40', 'X41', 'X42', 'X43', 'X44', 'X45', 'X46', 'X47', 'X48', 'X49', 'X50', 'X51', 'X52', 'X53', 'X54', 'X55', 'X56', 'X57', 'X58', 'X59', 'X60', 'X61', 'X62', 'X63', 'X64', 'X65', 'X66', 'X67', 'X68', 'X69', 'X70', 'X71', 'X73', 'X74', 'X75', 'X76', 'X77', 'X78', 'X79', 'X80', 'X81', 'X82', 'X83', 'X84', 'X85', 'X86', 'X87', 'X88', 'X89', 'X90', 'X91', 'X92', 'X93', 'X94', 'X95', 'X96', 'X97', 'X98', 'X99', 'X100', 'X101', 'X102', 'X103', 'X104', 'X105', 'X106', 'X107', 'X108', 'X109', 'X110', 'X111', 'X112', 'X113', 'X114', 'X115', 'X116', 'X117', 'X118', 'X119', 'X120', 'X122', 'X123', 'X124', 'X125', 'X126', 'X127', 'X128', 'X129', 'X130', 'X131', 'X132', 'X133', 'X134', 'X135', 'X136', 'X137', 'X138', 'X139', 'X140', 'X141', 'X142', 'X143', 'X144', 'X145', 'X146', 'X147', 'X148', 'X150', 'X151', 'X152', 'X153', 'X154', 'X155', 'X156', 'X157', 'X158', 'X159', 'X160', 'X161', 'X162', 'X163', 'X164', 'X165', 'X166', 'X167', 'X168', 'X169', 'X170', 'X171', 'X172', 'X173', 'X174', 'X175', 'X176', 'X177', 'X178', 'X179', 'X180', 'X181', 'X182', 'X183', 'X184', 'X185', 'X186', 'X187', 'X189', 'X190', 'X191', 'X192', 'X194', 'X195', 'X196', 'X197', 'X198', 'X199', 'X200', 'X201', 'X202', 'X203', 'X204', 'X205', 'X206', 'X207', 'X208', 'X209', 'X210', 'X211', 'X212', 'X213', 'X214', 'X215', 'X216', 'X217', 'X218', 'X219', 'X220', 'X221', 'X222', 'X223', 'X224', 'X225', 'X226', 'X227', 'X228', 'X229', 'X230', 'X231', 'X232', 'X233', 'X234', 'X235', 'X236', 'X237', 'X238', 'X239', 'X240', 'X241', 'X242', 'X243', 'X244', 'X245', 'X246', 'X247', 'X248', 'X249', 'X250', 'X251', 'X252', 'X253', 'X254', 'X255', 'X256', 'X257', 'X258', 'X259', 'X260', 'X261', 'X262', 'X263', 'X264', 'X265', 'X266', 'X267', 'X268', 'X269', 'X270', 'X271', 'X272', 'X273', 'X274', 'X275', 'X276', 'X277', 'X278', 'X279', 'X280', 'X281', 'X282', 'X283', 'X284', 'X285', 'X286', 'X287', 'X288', 'X289', 'X290', 'X291', 'X292', 'X293', 'X294', 'X295', 'X296', 'X297', 'X298', 'X299', 'X300', 'X301', 'X302', 'X304', 'X305', 'X306', 'X307', 'X308', 'X309', 'X310', 'X311', 'X312', 'X313', 'X314', 'X315', 'X316', 'X317', 'X318', 'X319', 'X320', 'X321', 'X322', 'X323', 'X324', 'X325', 'X326', 'X327', 'X328', 'X329', 'X330', 'X331', 'X332', 'X333', 'X334', 'X335', 'X336', 'X337', 'X338', 'X339', 'X340', 'X341', 'X342', 'X343', 'X344', 'X345', 'X346', 'X347', 'X348', 'X349', 'X350', 'X351', 'X352', 'X353', 'X354', 'X355', 'X356', 'X357', 'X358', 'X359', 'X360', 'X361', 'X362', 'X363', 'X364', 'X365', 'X366', 'X367', 'X368', 'X369', 'X370', 'X371', 'X372', 'X373', 'X374', 'X375', 'X376', 'X377', 'X378', 'X379', 'X380', 'X382', 'X383', 'X384', 'X385', 'X0_a', 'X0_ad', 'X0_af', 'X0_ai', 'X0_aj', 'X0_ak', 'X0_al', 'X0_am', 'X0_ao', 'X0_ap', 'X0_aq', 'X0_as', 'X0_at', 'X0_au', 'X0_aw', 'X0_ax', 'X0_ay', 'X0_az', 'X0_b', 'X0_ba', 'X0_bc', 'X0_c', 'X0_d', 'X0_e', 'X0_f', 'X0_g', 'X0_h', 'X0_i', 'X0_j', 'X0_k', 'X0_l', 'X0_m', 'X0_n', 'X0_o', 'X0_r', 'X0_s', 'X0_t', 'X0_u', 'X0_v', 'X0_w', 'X0_x', 'X0_y', 'X0_z', 'X1_a', 'X1_aa', 'X1_ab', 'X1_b', 'X1_c', 'X1_d', 'X1_e', 'X1_f', 'X1_g', 'X1_h', 'X1_i', 'X1_j', 'X1_k', 'X1_l', 'X1_m', 'X1_n', 'X1_o', 'X1_p', 'X1_q', 'X1_r', 'X1_s', 'X1_t', 'X1_u', 'X1_v', 'X1_w', 'X1_y', 'X1_z', 'X2_a', 'X2_ac', 'X2_ae', 'X2_af', 'X2_ag', 'X2_ah', 'X2_ai', 'X2_ak', 'X2_al', 'X2_am', 'X2_an', 'X2_ao', 'X2_ap', 'X2_aq', 'X2_as', 'X2_at', 'X2_au', 'X2_av', 'X2_aw', 'X2_ay', 'X2_b', 'X2_d', 'X2_e', 'X2_f', 'X2_g', 'X2_h', 'X2_i', 'X2_j', 'X2_k', 'X2_m', 'X2_n', 'X2_p', 'X2_q', 'X2_r', 'X2_s', 'X2_t', 'X2_x', 'X2_y', 'X2_z', 'X3_a', 'X3_b', 'X3_c', 'X3_d', 'X3_e', 'X3_f', 'X3_g', 'X4_a', 'X4_b', 'X4_c', 'X4_d', 'X5_aa', 'X5_ab', 'X5_ac', 'X5_ad', 'X5_ae', 'X5_af', 'X5_ag', 'X5_ah', 'X5_c', 'X5_d', 'X5_f', 'X5_g', 'X5_h', 'X5_i', 'X5_j', 'X5_k', 'X5_l', 'X5_m', 'X5_n', 'X5_o', 'X5_p', 'X5_q', 'X5_r', 'X5_s', 'X5_v', 'X5_w', 'X5_x', 'X5_y', 'X6_a', 'X6_b', 'X6_c', 'X6_d', 'X6_e', 'X6_f', 'X6_g', 'X6_h', 'X6_i', 'X6_j', 'X6_k', 'X6_l', 'X8_a', 'X8_b', 'X8_c', 'X8_d', 'X8_e', 'X8_f', 'X8_g', 'X8_h', 'X8_i', 'X8_j', 'X8_k', 'X8_l', 'X8_m', 'X8_n', 'X8_o', 'X8_p', 'X8_q', 'X8_r', 'X8_s', 'X8_t', 'X8_u', 'X8_v', 'X8_w', 'X8_x', 'X8_y']\n"
     ]
    }
   ],
   "source": []
  },
  {
   "cell_type": "code",
   "execution_count": 117,
   "metadata": {
    "collapsed": true
   },
   "outputs": [],
   "source": []
  },
  {
   "cell_type": "code",
   "execution_count": 118,
   "metadata": {},
   "outputs": [
    {
     "name": "stdout",
     "output_type": "stream",
     "text": [
      "<class 'pandas.core.frame.DataFrame'>\n",
      "RangeIndex: 4209 entries, 0 to 4208\n",
      "Columns: 554 entries, ID to X8_y\n",
      "dtypes: int64(369), uint8(185)\n",
      "memory usage: 12.6 MB\n"
     ]
    }
   ],
   "source": []
  },
  {
   "cell_type": "code",
   "execution_count": 119,
   "metadata": {},
   "outputs": [
    {
     "name": "stdout",
     "output_type": "stream",
     "text": [
      "<class 'pandas.core.frame.DataFrame'>\n",
      "RangeIndex: 4209 entries, 0 to 4208\n",
      "Columns: 554 entries, ID to X8_y\n",
      "dtypes: int64(369), uint8(185)\n",
      "memory usage: 12.6 MB\n"
     ]
    }
   ],
   "source": []
  },
  {
   "cell_type": "code",
   "execution_count": 20,
   "metadata": {
    "collapsed": true
   },
   "outputs": [],
   "source": [
    "from sklearn.preprocessing import StandardScaler\n",
    "ss = StandardScaler()\n",
    "X_train=ss.fit_transform(train.drop(['y'],axis=1))\n",
    "X_test=ss.fit_transform(test)"
   ]
  },
  {
   "cell_type": "code",
   "execution_count": 23,
   "metadata": {},
   "outputs": [
    {
     "name": "stderr",
     "output_type": "stream",
     "text": [
      "/home/anirudh/anaconda/lib/python2.7/site-packages/sklearn/decomposition/fastica_.py:116: UserWarning: FastICA did not converge. Consider increasing tolerance or the maximum number of iterations.\n",
      "  warnings.warn('FastICA did not converge. Consider increasing '\n"
     ]
    }
   ],
   "source": [
    "from sklearn.decomposition import PCA,FastICA\n",
    "\n",
    "\n",
    "pca = PCA(random_state=42)\n",
    "X_train_pca = pca.fit_transform(X_train)\n",
    "X_test_pca = pca.transform(X_test)\n",
    "\n",
    "ica = FastICA(random_state=42)\n",
    "X_train_ica = ica.fit_transform(X_train)\n",
    "X_test_ica = ica.transform(X_test)"
   ]
  },
  {
   "cell_type": "code",
   "execution_count": 29,
   "metadata": {},
   "outputs": [],
   "source": [
    "for i in range(1, 15):\n",
    "    train['pca_' + str(i)] = X_train_pca[:,i-1]\n",
    "    test['pca_' + str(i)] = X_test_pca[:, i-1]\n",
    "    \n",
    "    train['ica_' + str(i)] = X_train_ica[:,i-1]\n",
    "    test['ica_' + str(i)] = X_test_ica[:, i-1]"
   ]
  },
  {
   "cell_type": "code",
   "execution_count": 122,
   "metadata": {},
   "outputs": [
    {
     "name": "stdout",
     "output_type": "stream",
     "text": [
      "Classifier Created\n",
      "--- 1.24173784256 seconds ---\n"
     ]
    }
   ],
   "source": [
    "import time\n",
    "from sklearn.ensemble import RandomForestRegressor\n",
    "from sklearn.metrics import mean_absolute_error\n",
    "from sklearn.model_selection import cross_val_predict,cross_val_score\n",
    "from sklearn.metrics import mean_squared_error\n",
    "\n",
    "start_time = time.time()\n",
    "\n",
    "R_RF_L1 = RandomForestRegressor()\n",
    "#clf_GBC.fit(X_train,y_train)\n",
    "\n",
    "print(\"Classifier Created\")\n",
    "\n",
    "R_RF_L1.fit(X_train,y)\n",
    "y_pred = R_RF_L1.predict(X_test)\n",
    "\n",
    "print(\"--- %s seconds ---\" % (time.time() - start_time))"
   ]
  },
  {
   "cell_type": "code",
   "execution_count": 123,
   "metadata": {
    "collapsed": true
   },
   "outputs": [],
   "source": [
    "output = pd.DataFrame({'id': df_test['ID'].astype(np.int32), 'y': y_pred})\n",
    "output.to_csv('RadomForestLevel1.csv', index=False)"
   ]
  },
  {
   "cell_type": "code",
   "execution_count": 124,
   "metadata": {},
   "outputs": [
    {
     "name": "stdout",
     "output_type": "stream",
     "text": [
      "Classifier Created\n",
      "Score Created\n",
      "[ -74.05706988  -59.54967555  -75.28769674 -215.40038197  -92.86579202\n",
      "  -79.57026828  -70.16168944  -45.0302984   -72.6723419  -104.19550428\n",
      " -106.07036415 -149.36009266  -59.47710473  -49.95963906  -52.31038353\n",
      "  -52.2455749 ]\n",
      "Training data for next level Created\n",
      "--- 13.0771760941 seconds ---\n",
      "15.1142060233\n"
     ]
    }
   ],
   "source": [
    "import time\n",
    "from sklearn.ensemble import RandomForestRegressor\n",
    "from sklearn.metrics import mean_absolute_error\n",
    "from sklearn.model_selection import cross_val_predict,cross_val_score\n",
    "from sklearn.metrics import mean_squared_error\n",
    "\n",
    "start_time = time.time()\n",
    "\n",
    "clf_RF_L1 = RandomForestRegressor()\n",
    "#clf_GBC.fit(X_train,y_train)\n",
    "\n",
    "print(\"Classifier Created\")\n",
    "\n",
    "score_RF_L1 = cross_val_score(clf_RF_L1,X_train,y,cv=16,scoring= 'neg_mean_squared_error',n_jobs=-1)\n",
    "print(\"Score Created\")\n",
    "print(score_RF_L1)\n",
    "\n",
    "\n",
    "y_train_pred_RF_L1 = cross_val_predict(clf_RF_L1,X_train,y,cv=16,n_jobs=-1)\n",
    "print(\"Training data for next level Created\")\n",
    "\n",
    "\n",
    "print(\"--- %s seconds ---\" % (time.time() - start_time))\n",
    "#print score\n",
    "print(100-mean_squared_error(y,y_train_pred_RF_L1))\n",
    "\n",
    "\n",
    "R_RF_L1 = RandomForestRegressor()\n",
    "R_RF_L1.fit(X_train,y)\n",
    "y_test_pred_RF_L1 = R_RF_L1.predict(X_test)"
   ]
  },
  {
   "cell_type": "code",
   "execution_count": 125,
   "metadata": {},
   "outputs": [
    {
     "name": "stdout",
     "output_type": "stream",
     "text": [
      "0.471868481826\n"
     ]
    }
   ],
   "source": [
    "from sklearn.metrics import r2_score\n",
    "print(r2_score(y,y_train_pred_RF_L1))"
   ]
  },
  {
   "cell_type": "code",
   "execution_count": 13,
   "metadata": {},
   "outputs": [
    {
     "name": "stdout",
     "output_type": "stream",
     "text": [
      "Classifier Created\n",
      "Score Created\n",
      "[-0.09954018 -0.27676447 -0.11340044 -0.47289529 -0.13039259 -0.11357222\n",
      " -0.12896973 -0.1003001  -0.10141191 -0.12354306 -0.11875877 -0.11164214\n",
      " -0.10173895 -0.08963732 -0.11005765 -0.11582181]\n",
      "Training data for next level Created\n",
      "--- 43.426358223 seconds ---\n",
      "0.982974104393\n"
     ]
    }
   ],
   "source": [
    "import time\n",
    "from sklearn.metrics import r2_score\n",
    "from xgboost import XGBRegressor\n",
    "from sklearn.metrics import mean_absolute_error\n",
    "from sklearn.model_selection import cross_val_predict,cross_val_score\n",
    "from sklearn.metrics import mean_squared_error\n",
    "start_time = time.time()\n",
    "\n",
    "clf_XG_L1 = XGBRegressor()\n",
    "#clf_GBC.fit(X_train,y_train)\n",
    "\n",
    "print(\"Classifier Created\")\n",
    "\n",
    "score_XG_L1 = cross_val_score(clf_XG_L1,train,y,cv=16,scoring= 'neg_mean_absolute_error',n_jobs=-1)\n",
    "print(\"Score Created\")\n",
    "print score_XG_L1\n",
    "\n",
    "\n",
    "y_train_pred_XG_L1 = cross_val_predict(clf_XG_L1,train,y,cv=16,n_jobs=-1)\n",
    "print(\"Training data for next level Created\")\n",
    "\n",
    "\n",
    "print(\"--- %s seconds ---\" % (time.time() - start_time))\n",
    "#print score\n",
    "print(r2_score(y,y_train_pred_XG_L1))"
   ]
  },
  {
   "cell_type": "code",
   "execution_count": 30,
   "metadata": {},
   "outputs": [
    {
     "ename": "ValueError",
     "evalue": "feature_names mismatch: [u'ID', u'y', u'X0', u'X1', u'X2', u'X3', u'X4', u'X5', u'X6', u'X8', u'X10', u'X11', u'X12', u'X13', u'X14', u'X15', u'X16', u'X17', u'X18', u'X19', u'X20', u'X21', u'X22', u'X23', u'X24', u'X26', u'X27', u'X28', u'X29', u'X30', u'X31', u'X32', u'X33', u'X34', u'X35', u'X36', u'X37', u'X38', u'X39', u'X40', u'X41', u'X42', u'X43', u'X44', u'X45', u'X46', u'X47', u'X48', u'X49', u'X50', u'X51', u'X52', u'X53', u'X54', u'X55', u'X56', u'X57', u'X58', u'X59', u'X60', u'X61', u'X62', u'X63', u'X64', u'X65', u'X66', u'X67', u'X68', u'X69', u'X70', u'X71', u'X73', u'X74', u'X75', u'X76', u'X77', u'X78', u'X79', u'X80', u'X81', u'X82', u'X83', u'X84', u'X85', u'X86', u'X87', u'X88', u'X89', u'X90', u'X91', u'X92', u'X93', u'X94', u'X95', u'X96', u'X97', u'X98', u'X99', u'X100', u'X101', u'X102', u'X103', u'X104', u'X105', u'X106', u'X107', u'X108', u'X109', u'X110', u'X111', u'X112', u'X113', u'X114', u'X115', u'X116', u'X117', u'X118', u'X119', u'X120', u'X122', u'X123', u'X124', u'X125', u'X126', u'X127', u'X128', u'X129', u'X130', u'X131', u'X132', u'X133', u'X134', u'X135', u'X136', u'X137', u'X138', u'X139', u'X140', u'X141', u'X142', u'X143', u'X144', u'X145', u'X146', u'X147', u'X148', u'X150', u'X151', u'X152', u'X153', u'X154', u'X155', u'X156', u'X157', u'X158', u'X159', u'X160', u'X161', u'X162', u'X163', u'X164', u'X165', u'X166', u'X167', u'X168', u'X169', u'X170', u'X171', u'X172', u'X173', u'X174', u'X175', u'X176', u'X177', u'X178', u'X179', u'X180', u'X181', u'X182', u'X183', u'X184', u'X185', u'X186', u'X187', u'X189', u'X190', u'X191', u'X192', u'X194', u'X195', u'X196', u'X197', u'X198', u'X199', u'X200', u'X201', u'X202', u'X203', u'X204', u'X205', u'X206', u'X207', u'X208', u'X209', u'X210', u'X211', u'X212', u'X213', u'X214', u'X215', u'X216', u'X217', u'X218', u'X219', u'X220', u'X221', u'X222', u'X223', u'X224', u'X225', u'X226', u'X227', u'X228', u'X229', u'X230', u'X231', u'X232', u'X233', u'X234', u'X235', u'X236', u'X237', u'X238', u'X239', u'X240', u'X241', u'X242', u'X243', u'X244', u'X245', u'X246', u'X247', u'X248', u'X249', u'X250', u'X251', u'X252', u'X253', u'X254', u'X255', u'X256', u'X257', u'X258', u'X259', u'X260', u'X261', u'X262', u'X263', u'X264', u'X265', u'X266', u'X267', u'X268', u'X269', u'X270', u'X271', u'X272', u'X273', u'X274', u'X275', u'X276', u'X277', u'X278', u'X279', u'X280', u'X281', u'X282', u'X283', u'X284', u'X285', u'X286', u'X287', u'X288', u'X289', u'X290', u'X291', u'X292', u'X293', u'X294', u'X295', u'X296', u'X297', u'X298', u'X299', u'X300', u'X301', u'X302', u'X304', u'X305', u'X306', u'X307', u'X308', u'X309', u'X310', u'X311', u'X312', u'X313', u'X314', u'X315', u'X316', u'X317', u'X318', u'X319', u'X320', u'X321', u'X322', u'X323', u'X324', u'X325', u'X326', u'X327', u'X328', u'X329', u'X330', u'X331', u'X332', u'X333', u'X334', u'X335', u'X336', u'X337', u'X338', u'X339', u'X340', u'X341', u'X342', u'X343', u'X344', u'X345', u'X346', u'X347', u'X348', u'X349', u'X350', u'X351', u'X352', u'X353', u'X354', u'X355', u'X356', u'X357', u'X358', u'X359', u'X360', u'X361', u'X362', u'X363', u'X364', u'X365', u'X366', u'X367', u'X368', u'X369', u'X370', u'X371', u'X372', u'X373', u'X374', u'X375', u'X376', u'X377', u'X378', u'X379', u'X380', u'X382', u'X383', u'X384', u'X385', u'pca_1', u'ica_1', u'pca_2', u'ica_2', u'pca_3', u'ica_3', u'pca_4', u'ica_4', u'pca_5', u'ica_5', u'pca_6', u'ica_6', u'pca_7', u'ica_7', u'pca_8', u'ica_8', u'pca_9', u'ica_9', u'pca_10', u'ica_10', u'pca_11', u'ica_11', u'pca_12', u'ica_12', u'pca_13', u'ica_13', u'pca_14', u'ica_14', u'pca_15', u'ica_15', u'pca_16', u'ica_16', u'pca_17', u'ica_17', u'pca_18', u'ica_18', u'pca_19', u'ica_19', u'pca_20', u'ica_20', u'pca_21', u'ica_21', u'pca_22', u'ica_22', u'pca_23', u'ica_23', u'pca_24', u'ica_24', u'pca_25', u'ica_25', u'pca_26', u'ica_26', u'pca_27', u'ica_27', u'pca_28', u'ica_28', u'pca_29', u'ica_29', u'pca_30', u'ica_30', u'pca_31', u'ica_31', u'pca_32', u'ica_32', u'pca_33', u'ica_33', u'pca_34', u'ica_34', u'pca_35', u'ica_35', u'pca_36', u'ica_36', u'pca_37', u'ica_37', u'pca_38', u'ica_38', u'pca_39', u'ica_39', u'pca_40', u'ica_40', u'pca_41', u'ica_41', u'pca_42', u'ica_42', u'pca_43', u'ica_43', u'pca_44', u'ica_44', u'pca_45', u'ica_45', u'pca_46', u'ica_46', u'pca_47', u'ica_47', u'pca_48', u'ica_48', u'pca_49', u'ica_49', u'pca_50', u'ica_50', u'pca_51', u'ica_51', u'pca_52', u'ica_52', u'pca_53', u'ica_53', u'pca_54', u'ica_54', u'pca_55', u'ica_55', u'pca_56', u'ica_56', u'pca_57', u'ica_57', u'pca_58', u'ica_58', u'pca_59', u'ica_59', u'pca_60', u'ica_60', u'pca_61', u'ica_61', u'pca_62', u'ica_62', u'pca_63', u'ica_63', u'pca_64', u'ica_64', u'pca_65', u'ica_65', u'pca_66', u'ica_66', u'pca_67', u'ica_67', u'pca_68', u'ica_68', u'pca_69', u'ica_69', u'pca_70', u'ica_70', u'pca_71', u'ica_71', u'pca_72', u'ica_72', u'pca_73', u'ica_73', u'pca_74', u'ica_74', u'pca_75', u'ica_75', u'pca_76', u'ica_76', u'pca_77', u'ica_77', u'pca_78', u'ica_78', u'pca_79', u'ica_79', u'pca_80', u'ica_80', u'pca_81', u'ica_81', u'pca_82', u'ica_82', u'pca_83', u'ica_83', u'pca_84', u'ica_84', u'pca_85', u'ica_85', u'pca_86', u'ica_86', u'pca_87', u'ica_87', u'pca_88', u'ica_88', u'pca_89', u'ica_89', u'pca_90', u'ica_90', u'pca_91', u'ica_91', u'pca_92', u'ica_92', u'pca_93', u'ica_93', u'pca_94', u'ica_94', u'pca_95', u'ica_95', u'pca_96', u'ica_96', u'pca_97', u'ica_97', u'pca_98', u'ica_98', u'pca_99', u'ica_99', u'pca_100', u'ica_100', u'pca_101', u'ica_101', u'pca_102', u'ica_102', u'pca_103', u'ica_103', u'pca_104', u'ica_104', u'pca_105', u'ica_105', u'pca_106', u'ica_106', u'pca_107', u'ica_107', u'pca_108', u'ica_108', u'pca_109', u'ica_109', u'pca_110', u'ica_110', u'pca_111', u'ica_111', u'pca_112', u'ica_112', u'pca_113', u'ica_113', u'pca_114', u'ica_114', u'pca_115', u'ica_115', u'pca_116', u'ica_116', u'pca_117', u'ica_117', u'pca_118', u'ica_118', u'pca_119', u'ica_119', u'pca_120', u'ica_120', u'pca_121', u'ica_121', u'pca_122', u'ica_122', u'pca_123', u'ica_123', u'pca_124', u'ica_124', u'pca_125', u'ica_125', u'pca_126', u'ica_126', u'pca_127', u'ica_127', u'pca_128', u'ica_128', u'pca_129', u'ica_129', u'pca_130', u'ica_130', u'pca_131', u'ica_131', u'pca_132', u'ica_132', u'pca_133', u'ica_133', u'pca_134', u'ica_134', u'pca_135', u'ica_135', u'pca_136', u'ica_136', u'pca_137', u'ica_137', u'pca_138', u'ica_138', u'pca_139', u'ica_139', u'pca_140', u'ica_140', u'pca_141', u'ica_141', u'pca_142', u'ica_142', u'pca_143', u'ica_143', u'pca_144', u'ica_144', u'pca_145', u'ica_145', u'pca_146', u'ica_146', u'pca_147', u'ica_147', u'pca_148', u'ica_148', u'pca_149', u'ica_149', u'pca_150', u'ica_150', u'pca_151', u'ica_151', u'pca_152', u'ica_152', u'pca_153', u'ica_153', u'pca_154', u'ica_154', u'pca_155', u'ica_155', u'pca_156', u'ica_156', u'pca_157', u'ica_157', u'pca_158', u'ica_158', u'pca_159', u'ica_159', u'pca_160', u'ica_160', u'pca_161', u'ica_161', u'pca_162', u'ica_162', u'pca_163', u'ica_163', u'pca_164', u'ica_164', u'pca_165', u'ica_165', u'pca_166', u'ica_166', u'pca_167', u'ica_167', u'pca_168', u'ica_168', u'pca_169', u'ica_169', u'pca_170', u'ica_170', u'pca_171', u'ica_171', u'pca_172', u'ica_172', u'pca_173', u'ica_173', u'pca_174', u'ica_174', u'pca_175', u'ica_175', u'pca_176', u'ica_176', u'pca_177', u'ica_177', u'pca_178', u'ica_178', u'pca_179', u'ica_179', u'pca_180', u'ica_180', u'pca_181', u'ica_181', u'pca_182', u'ica_182', u'pca_183', u'ica_183', u'pca_184', u'ica_184', u'pca_185', u'ica_185', u'pca_186', u'ica_186', u'pca_187', u'ica_187', u'pca_188', u'ica_188', u'pca_189', u'ica_189', u'pca_190', u'ica_190', u'pca_191', u'ica_191', u'pca_192', u'ica_192', u'pca_193', u'ica_193', u'pca_194', u'ica_194', u'pca_195', u'ica_195', u'pca_196', u'ica_196', u'pca_197', u'ica_197', u'pca_198', u'ica_198', u'pca_199', u'ica_199', u'pca_200', u'ica_200', u'pca_201', u'ica_201', u'pca_202', u'ica_202', u'pca_203', u'ica_203', u'pca_204', u'ica_204', u'pca_205', u'ica_205', u'pca_206', u'ica_206', u'pca_207', u'ica_207', u'pca_208', u'ica_208', u'pca_209', u'ica_209', u'pca_210', u'ica_210', u'pca_211', u'ica_211', u'pca_212', u'ica_212', u'pca_213', u'ica_213', u'pca_214', u'ica_214', u'pca_215', u'ica_215', u'pca_216', u'ica_216', u'pca_217', u'ica_217', u'pca_218', u'ica_218', u'pca_219', u'ica_219', u'pca_220', u'ica_220', u'pca_221', u'ica_221', u'pca_222', u'ica_222', u'pca_223', u'ica_223', u'pca_224', u'ica_224', u'pca_225', u'ica_225', u'pca_226', u'ica_226', u'pca_227', u'ica_227', u'pca_228', u'ica_228', u'pca_229', u'ica_229', u'pca_230', u'ica_230', u'pca_231', u'ica_231', u'pca_232', u'ica_232', u'pca_233', u'ica_233', u'pca_234', u'ica_234', u'pca_235', u'ica_235', u'pca_236', u'ica_236', u'pca_237', u'ica_237', u'pca_238', u'ica_238', u'pca_239', u'ica_239', u'pca_240', u'ica_240', u'pca_241', u'ica_241', u'pca_242', u'ica_242', u'pca_243', u'ica_243', u'pca_244', u'ica_244', u'pca_245', u'ica_245', u'pca_246', u'ica_246', u'pca_247', u'ica_247', u'pca_248', u'ica_248', u'pca_249', u'ica_249', u'pca_250', u'ica_250', u'pca_251', u'ica_251', u'pca_252', u'ica_252', u'pca_253', u'ica_253', u'pca_254', u'ica_254', u'pca_255', u'ica_255', u'pca_256', u'ica_256', u'pca_257', u'ica_257', u'pca_258', u'ica_258', u'pca_259', u'ica_259', u'pca_260', u'ica_260', u'pca_261', u'ica_261', u'pca_262', u'ica_262', u'pca_263', u'ica_263', u'pca_264', u'ica_264', u'pca_265', u'ica_265', u'pca_266', u'ica_266', u'pca_267', u'ica_267', u'pca_268', u'ica_268', u'pca_269', u'ica_269', u'pca_270', u'ica_270', u'pca_271', u'ica_271', u'pca_272', u'ica_272', u'pca_273', u'ica_273', u'pca_274', u'ica_274', u'pca_275', u'ica_275', u'pca_276', u'ica_276', u'pca_277', u'ica_277', u'pca_278', u'ica_278', u'pca_279', u'ica_279', u'pca_280', u'ica_280', u'pca_281', u'ica_281', u'pca_282', u'ica_282', u'pca_283', u'ica_283', u'pca_284', u'ica_284', u'pca_285', u'ica_285', u'pca_286', u'ica_286', u'pca_287', u'ica_287', u'pca_288', u'ica_288', u'pca_289', u'ica_289', u'pca_290', u'ica_290', u'pca_291', u'ica_291', u'pca_292', u'ica_292', u'pca_293', u'ica_293', u'pca_294', u'ica_294', u'pca_295', u'ica_295', u'pca_296', u'ica_296', u'pca_297', u'ica_297', u'pca_298', u'ica_298', u'pca_299', u'ica_299', u'pca_300', u'ica_300', u'pca_301', u'ica_301', u'pca_302', u'ica_302', u'pca_303', u'ica_303', u'pca_304', u'ica_304', u'pca_305', u'ica_305', u'pca_306', u'ica_306', u'pca_307', u'ica_307', u'pca_308', u'ica_308', u'pca_309', u'ica_309', u'pca_310', u'ica_310', u'pca_311', u'ica_311', u'pca_312', u'ica_312', u'pca_313', u'ica_313', u'pca_314', u'ica_314', u'pca_315', u'ica_315', u'pca_316', u'ica_316', u'pca_317', u'ica_317', u'pca_318', u'ica_318', u'pca_319', u'ica_319', u'pca_320', u'ica_320', u'pca_321', u'ica_321', u'pca_322', u'ica_322', u'pca_323', u'ica_323', u'pca_324', u'ica_324', u'pca_325', u'ica_325', u'pca_326', u'ica_326', u'pca_327', u'ica_327', u'pca_328', u'ica_328', u'pca_329', u'ica_329', u'pca_330', u'ica_330', u'pca_331', u'ica_331', u'pca_332', u'ica_332', u'pca_333', u'ica_333', u'pca_334', u'ica_334', u'pca_335', u'ica_335', u'pca_336', u'ica_336', u'pca_337', u'ica_337', u'pca_338', u'ica_338', u'pca_339', u'ica_339', u'pca_340', u'ica_340', u'pca_341', u'ica_341', u'pca_342', u'ica_342', u'pca_343', u'ica_343', u'pca_344', u'ica_344', u'pca_345', u'ica_345', u'pca_346', u'ica_346', u'pca_347', u'ica_347', u'pca_348', u'ica_348', u'pca_349', u'ica_349', u'pca_350', u'ica_350', u'pca_351', u'ica_351', u'pca_352', u'ica_352', u'pca_353', u'ica_353', u'pca_354', u'ica_354', u'pca_355', u'ica_355', u'pca_356', u'ica_356', u'pca_357', u'ica_357', u'pca_358', u'ica_358', u'pca_359', u'ica_359', u'pca_360', u'ica_360', u'pca_361', u'ica_361', u'pca_362', u'ica_362', u'pca_363', u'ica_363', u'pca_364', u'ica_364', u'pca_365', u'ica_365', u'pca_366', u'ica_366', u'pca_367', u'ica_367', u'pca_368', u'ica_368', u'pca_369', u'ica_369', u'pca_370', u'ica_370', u'pca_371', u'ica_371', u'pca_372', u'ica_372', u'pca_373', u'ica_373', u'pca_374', u'ica_374', u'pca_375', u'ica_375', u'pca_376', u'ica_376', u'pca_377', u'ica_377'] [u'ID', u'X0', u'X1', u'X2', u'X3', u'X4', u'X5', u'X6', u'X8', u'X10', u'X11', u'X12', u'X13', u'X14', u'X15', u'X16', u'X17', u'X18', u'X19', u'X20', u'X21', u'X22', u'X23', u'X24', u'X26', u'X27', u'X28', u'X29', u'X30', u'X31', u'X32', u'X33', u'X34', u'X35', u'X36', u'X37', u'X38', u'X39', u'X40', u'X41', u'X42', u'X43', u'X44', u'X45', u'X46', u'X47', u'X48', u'X49', u'X50', u'X51', u'X52', u'X53', u'X54', u'X55', u'X56', u'X57', u'X58', u'X59', u'X60', u'X61', u'X62', u'X63', u'X64', u'X65', u'X66', u'X67', u'X68', u'X69', u'X70', u'X71', u'X73', u'X74', u'X75', u'X76', u'X77', u'X78', u'X79', u'X80', u'X81', u'X82', u'X83', u'X84', u'X85', u'X86', u'X87', u'X88', u'X89', u'X90', u'X91', u'X92', u'X93', u'X94', u'X95', u'X96', u'X97', u'X98', u'X99', u'X100', u'X101', u'X102', u'X103', u'X104', u'X105', u'X106', u'X107', u'X108', u'X109', u'X110', u'X111', u'X112', u'X113', u'X114', u'X115', u'X116', u'X117', u'X118', u'X119', u'X120', u'X122', u'X123', u'X124', u'X125', u'X126', u'X127', u'X128', u'X129', u'X130', u'X131', u'X132', u'X133', u'X134', u'X135', u'X136', u'X137', u'X138', u'X139', u'X140', u'X141', u'X142', u'X143', u'X144', u'X145', u'X146', u'X147', u'X148', u'X150', u'X151', u'X152', u'X153', u'X154', u'X155', u'X156', u'X157', u'X158', u'X159', u'X160', u'X161', u'X162', u'X163', u'X164', u'X165', u'X166', u'X167', u'X168', u'X169', u'X170', u'X171', u'X172', u'X173', u'X174', u'X175', u'X176', u'X177', u'X178', u'X179', u'X180', u'X181', u'X182', u'X183', u'X184', u'X185', u'X186', u'X187', u'X189', u'X190', u'X191', u'X192', u'X194', u'X195', u'X196', u'X197', u'X198', u'X199', u'X200', u'X201', u'X202', u'X203', u'X204', u'X205', u'X206', u'X207', u'X208', u'X209', u'X210', u'X211', u'X212', u'X213', u'X214', u'X215', u'X216', u'X217', u'X218', u'X219', u'X220', u'X221', u'X222', u'X223', u'X224', u'X225', u'X226', u'X227', u'X228', u'X229', u'X230', u'X231', u'X232', u'X233', u'X234', u'X235', u'X236', u'X237', u'X238', u'X239', u'X240', u'X241', u'X242', u'X243', u'X244', u'X245', u'X246', u'X247', u'X248', u'X249', u'X250', u'X251', u'X252', u'X253', u'X254', u'X255', u'X256', u'X257', u'X258', u'X259', u'X260', u'X261', u'X262', u'X263', u'X264', u'X265', u'X266', u'X267', u'X268', u'X269', u'X270', u'X271', u'X272', u'X273', u'X274', u'X275', u'X276', u'X277', u'X278', u'X279', u'X280', u'X281', u'X282', u'X283', u'X284', u'X285', u'X286', u'X287', u'X288', u'X289', u'X290', u'X291', u'X292', u'X293', u'X294', u'X295', u'X296', u'X297', u'X298', u'X299', u'X300', u'X301', u'X302', u'X304', u'X305', u'X306', u'X307', u'X308', u'X309', u'X310', u'X311', u'X312', u'X313', u'X314', u'X315', u'X316', u'X317', u'X318', u'X319', u'X320', u'X321', u'X322', u'X323', u'X324', u'X325', u'X326', u'X327', u'X328', u'X329', u'X330', u'X331', u'X332', u'X333', u'X334', u'X335', u'X336', u'X337', u'X338', u'X339', u'X340', u'X341', u'X342', u'X343', u'X344', u'X345', u'X346', u'X347', u'X348', u'X349', u'X350', u'X351', u'X352', u'X353', u'X354', u'X355', u'X356', u'X357', u'X358', u'X359', u'X360', u'X361', u'X362', u'X363', u'X364', u'X365', u'X366', u'X367', u'X368', u'X369', u'X370', u'X371', u'X372', u'X373', u'X374', u'X375', u'X376', u'X377', u'X378', u'X379', u'X380', u'X382', u'X383', u'X384', u'X385', u'pca_1', u'ica_1', u'pca_2', u'ica_2', u'pca_3', u'ica_3', u'pca_4', u'ica_4', u'pca_5', u'ica_5', u'pca_6', u'ica_6', u'pca_7', u'ica_7', u'pca_8', u'ica_8', u'pca_9', u'ica_9', u'pca_10', u'ica_10', u'pca_11', u'ica_11', u'pca_12', u'ica_12', u'pca_13', u'ica_13', u'pca_14', u'ica_14', u'pca_15', u'ica_15', u'pca_16', u'ica_16', u'pca_17', u'ica_17', u'pca_18', u'ica_18', u'pca_19', u'ica_19', u'pca_20', u'ica_20', u'pca_21', u'ica_21', u'pca_22', u'ica_22', u'pca_23', u'ica_23', u'pca_24', u'ica_24', u'pca_25', u'ica_25', u'pca_26', u'ica_26', u'pca_27', u'ica_27', u'pca_28', u'ica_28', u'pca_29', u'ica_29', u'pca_30', u'ica_30', u'pca_31', u'ica_31', u'pca_32', u'ica_32', u'pca_33', u'ica_33', u'pca_34', u'ica_34', u'pca_35', u'ica_35', u'pca_36', u'ica_36', u'pca_37', u'ica_37', u'pca_38', u'ica_38', u'pca_39', u'ica_39', u'pca_40', u'ica_40', u'pca_41', u'ica_41', u'pca_42', u'ica_42', u'pca_43', u'ica_43', u'pca_44', u'ica_44', u'pca_45', u'ica_45', u'pca_46', u'ica_46', u'pca_47', u'ica_47', u'pca_48', u'ica_48', u'pca_49', u'ica_49', u'pca_50', u'ica_50', u'pca_51', u'ica_51', u'pca_52', u'ica_52', u'pca_53', u'ica_53', u'pca_54', u'ica_54', u'pca_55', u'ica_55', u'pca_56', u'ica_56', u'pca_57', u'ica_57', u'pca_58', u'ica_58', u'pca_59', u'ica_59', u'pca_60', u'ica_60', u'pca_61', u'ica_61', u'pca_62', u'ica_62', u'pca_63', u'ica_63', u'pca_64', u'ica_64', u'pca_65', u'ica_65', u'pca_66', u'ica_66', u'pca_67', u'ica_67', u'pca_68', u'ica_68', u'pca_69', u'ica_69', u'pca_70', u'ica_70', u'pca_71', u'ica_71', u'pca_72', u'ica_72', u'pca_73', u'ica_73', u'pca_74', u'ica_74', u'pca_75', u'ica_75', u'pca_76', u'ica_76', u'pca_77', u'ica_77', u'pca_78', u'ica_78', u'pca_79', u'ica_79', u'pca_80', u'ica_80', u'pca_81', u'ica_81', u'pca_82', u'ica_82', u'pca_83', u'ica_83', u'pca_84', u'ica_84', u'pca_85', u'ica_85', u'pca_86', u'ica_86', u'pca_87', u'ica_87', u'pca_88', u'ica_88', u'pca_89', u'ica_89', u'pca_90', u'ica_90', u'pca_91', u'ica_91', u'pca_92', u'ica_92', u'pca_93', u'ica_93', u'pca_94', u'ica_94', u'pca_95', u'ica_95', u'pca_96', u'ica_96', u'pca_97', u'ica_97', u'pca_98', u'ica_98', u'pca_99', u'ica_99', u'pca_100', u'ica_100', u'pca_101', u'ica_101', u'pca_102', u'ica_102', u'pca_103', u'ica_103', u'pca_104', u'ica_104', u'pca_105', u'ica_105', u'pca_106', u'ica_106', u'pca_107', u'ica_107', u'pca_108', u'ica_108', u'pca_109', u'ica_109', u'pca_110', u'ica_110', u'pca_111', u'ica_111', u'pca_112', u'ica_112', u'pca_113', u'ica_113', u'pca_114', u'ica_114', u'pca_115', u'ica_115', u'pca_116', u'ica_116', u'pca_117', u'ica_117', u'pca_118', u'ica_118', u'pca_119', u'ica_119', u'pca_120', u'ica_120', u'pca_121', u'ica_121', u'pca_122', u'ica_122', u'pca_123', u'ica_123', u'pca_124', u'ica_124', u'pca_125', u'ica_125', u'pca_126', u'ica_126', u'pca_127', u'ica_127', u'pca_128', u'ica_128', u'pca_129', u'ica_129', u'pca_130', u'ica_130', u'pca_131', u'ica_131', u'pca_132', u'ica_132', u'pca_133', u'ica_133', u'pca_134', u'ica_134', u'pca_135', u'ica_135', u'pca_136', u'ica_136', u'pca_137', u'ica_137', u'pca_138', u'ica_138', u'pca_139', u'ica_139', u'pca_140', u'ica_140', u'pca_141', u'ica_141', u'pca_142', u'ica_142', u'pca_143', u'ica_143', u'pca_144', u'ica_144', u'pca_145', u'ica_145', u'pca_146', u'ica_146', u'pca_147', u'ica_147', u'pca_148', u'ica_148', u'pca_149', u'ica_149', u'pca_150', u'ica_150', u'pca_151', u'ica_151', u'pca_152', u'ica_152', u'pca_153', u'ica_153', u'pca_154', u'ica_154', u'pca_155', u'ica_155', u'pca_156', u'ica_156', u'pca_157', u'ica_157', u'pca_158', u'ica_158', u'pca_159', u'ica_159', u'pca_160', u'ica_160', u'pca_161', u'ica_161', u'pca_162', u'ica_162', u'pca_163', u'ica_163', u'pca_164', u'ica_164', u'pca_165', u'ica_165', u'pca_166', u'ica_166', u'pca_167', u'ica_167', u'pca_168', u'ica_168', u'pca_169', u'ica_169', u'pca_170', u'ica_170', u'pca_171', u'ica_171', u'pca_172', u'ica_172', u'pca_173', u'ica_173', u'pca_174', u'ica_174', u'pca_175', u'ica_175', u'pca_176', u'ica_176', u'pca_177', u'ica_177', u'pca_178', u'ica_178', u'pca_179', u'ica_179', u'pca_180', u'ica_180', u'pca_181', u'ica_181', u'pca_182', u'ica_182', u'pca_183', u'ica_183', u'pca_184', u'ica_184', u'pca_185', u'ica_185', u'pca_186', u'ica_186', u'pca_187', u'ica_187', u'pca_188', u'ica_188', u'pca_189', u'ica_189', u'pca_190', u'ica_190', u'pca_191', u'ica_191', u'pca_192', u'ica_192', u'pca_193', u'ica_193', u'pca_194', u'ica_194', u'pca_195', u'ica_195', u'pca_196', u'ica_196', u'pca_197', u'ica_197', u'pca_198', u'ica_198', u'pca_199', u'ica_199', u'pca_200', u'ica_200', u'pca_201', u'ica_201', u'pca_202', u'ica_202', u'pca_203', u'ica_203', u'pca_204', u'ica_204', u'pca_205', u'ica_205', u'pca_206', u'ica_206', u'pca_207', u'ica_207', u'pca_208', u'ica_208', u'pca_209', u'ica_209', u'pca_210', u'ica_210', u'pca_211', u'ica_211', u'pca_212', u'ica_212', u'pca_213', u'ica_213', u'pca_214', u'ica_214', u'pca_215', u'ica_215', u'pca_216', u'ica_216', u'pca_217', u'ica_217', u'pca_218', u'ica_218', u'pca_219', u'ica_219', u'pca_220', u'ica_220', u'pca_221', u'ica_221', u'pca_222', u'ica_222', u'pca_223', u'ica_223', u'pca_224', u'ica_224', u'pca_225', u'ica_225', u'pca_226', u'ica_226', u'pca_227', u'ica_227', u'pca_228', u'ica_228', u'pca_229', u'ica_229', u'pca_230', u'ica_230', u'pca_231', u'ica_231', u'pca_232', u'ica_232', u'pca_233', u'ica_233', u'pca_234', u'ica_234', u'pca_235', u'ica_235', u'pca_236', u'ica_236', u'pca_237', u'ica_237', u'pca_238', u'ica_238', u'pca_239', u'ica_239', u'pca_240', u'ica_240', u'pca_241', u'ica_241', u'pca_242', u'ica_242', u'pca_243', u'ica_243', u'pca_244', u'ica_244', u'pca_245', u'ica_245', u'pca_246', u'ica_246', u'pca_247', u'ica_247', u'pca_248', u'ica_248', u'pca_249', u'ica_249', u'pca_250', u'ica_250', u'pca_251', u'ica_251', u'pca_252', u'ica_252', u'pca_253', u'ica_253', u'pca_254', u'ica_254', u'pca_255', u'ica_255', u'pca_256', u'ica_256', u'pca_257', u'ica_257', u'pca_258', u'ica_258', u'pca_259', u'ica_259', u'pca_260', u'ica_260', u'pca_261', u'ica_261', u'pca_262', u'ica_262', u'pca_263', u'ica_263', u'pca_264', u'ica_264', u'pca_265', u'ica_265', u'pca_266', u'ica_266', u'pca_267', u'ica_267', u'pca_268', u'ica_268', u'pca_269', u'ica_269', u'pca_270', u'ica_270', u'pca_271', u'ica_271', u'pca_272', u'ica_272', u'pca_273', u'ica_273', u'pca_274', u'ica_274', u'pca_275', u'ica_275', u'pca_276', u'ica_276', u'pca_277', u'ica_277', u'pca_278', u'ica_278', u'pca_279', u'ica_279', u'pca_280', u'ica_280', u'pca_281', u'ica_281', u'pca_282', u'ica_282', u'pca_283', u'ica_283', u'pca_284', u'ica_284', u'pca_285', u'ica_285', u'pca_286', u'ica_286', u'pca_287', u'ica_287', u'pca_288', u'ica_288', u'pca_289', u'ica_289', u'pca_290', u'ica_290', u'pca_291', u'ica_291', u'pca_292', u'ica_292', u'pca_293', u'ica_293', u'pca_294', u'ica_294', u'pca_295', u'ica_295', u'pca_296', u'ica_296', u'pca_297', u'ica_297', u'pca_298', u'ica_298', u'pca_299', u'ica_299', u'pca_300', u'ica_300', u'pca_301', u'ica_301', u'pca_302', u'ica_302', u'pca_303', u'ica_303', u'pca_304', u'ica_304', u'pca_305', u'ica_305', u'pca_306', u'ica_306', u'pca_307', u'ica_307', u'pca_308', u'ica_308', u'pca_309', u'ica_309', u'pca_310', u'ica_310', u'pca_311', u'ica_311', u'pca_312', u'ica_312', u'pca_313', u'ica_313', u'pca_314', u'ica_314', u'pca_315', u'ica_315', u'pca_316', u'ica_316', u'pca_317', u'ica_317', u'pca_318', u'ica_318', u'pca_319', u'ica_319', u'pca_320', u'ica_320', u'pca_321', u'ica_321', u'pca_322', u'ica_322', u'pca_323', u'ica_323', u'pca_324', u'ica_324', u'pca_325', u'ica_325', u'pca_326', u'ica_326', u'pca_327', u'ica_327', u'pca_328', u'ica_328', u'pca_329', u'ica_329', u'pca_330', u'ica_330', u'pca_331', u'ica_331', u'pca_332', u'ica_332', u'pca_333', u'ica_333', u'pca_334', u'ica_334', u'pca_335', u'ica_335', u'pca_336', u'ica_336', u'pca_337', u'ica_337', u'pca_338', u'ica_338', u'pca_339', u'ica_339', u'pca_340', u'ica_340', u'pca_341', u'ica_341', u'pca_342', u'ica_342', u'pca_343', u'ica_343', u'pca_344', u'ica_344', u'pca_345', u'ica_345', u'pca_346', u'ica_346', u'pca_347', u'ica_347', u'pca_348', u'ica_348', u'pca_349', u'ica_349', u'pca_350', u'ica_350', u'pca_351', u'ica_351', u'pca_352', u'ica_352', u'pca_353', u'ica_353', u'pca_354', u'ica_354', u'pca_355', u'ica_355', u'pca_356', u'ica_356', u'pca_357', u'ica_357', u'pca_358', u'ica_358', u'pca_359', u'ica_359', u'pca_360', u'ica_360', u'pca_361', u'ica_361', u'pca_362', u'ica_362', u'pca_363', u'ica_363', u'pca_364', u'ica_364', u'pca_365', u'ica_365', u'pca_366', u'ica_366', u'pca_367', u'ica_367', u'pca_368', u'ica_368', u'pca_369', u'ica_369', u'pca_370', u'ica_370', u'pca_371', u'ica_371', u'pca_372', u'ica_372', u'pca_373', u'ica_373', u'pca_374', u'ica_374', u'pca_375', u'ica_375', u'pca_376', u'ica_376', u'pca_377', u'ica_377']\nexpected y in input data",
     "output_type": "error",
     "traceback": [
      "\u001b[0;31m---------------------------------------------------------------------------\u001b[0m",
      "\u001b[0;31mValueError\u001b[0m                                Traceback (most recent call last)",
      "\u001b[0;32m<ipython-input-30-36dd6b19ad6d>\u001b[0m in \u001b[0;36m<module>\u001b[0;34m()\u001b[0m\n\u001b[1;32m      1\u001b[0m \u001b[0mR_XG_L1\u001b[0m \u001b[0;34m=\u001b[0m \u001b[0mXGBRegressor\u001b[0m\u001b[0;34m(\u001b[0m\u001b[0;34m)\u001b[0m\u001b[0;34m\u001b[0m\u001b[0m\n\u001b[1;32m      2\u001b[0m \u001b[0mR_XG_L1\u001b[0m\u001b[0;34m.\u001b[0m\u001b[0mfit\u001b[0m\u001b[0;34m(\u001b[0m\u001b[0mtrain\u001b[0m\u001b[0;34m,\u001b[0m\u001b[0my\u001b[0m\u001b[0;34m)\u001b[0m\u001b[0;34m\u001b[0m\u001b[0m\n\u001b[0;32m----> 3\u001b[0;31m \u001b[0my_pred_XG_L1\u001b[0m \u001b[0;34m=\u001b[0m \u001b[0mR_XG_L1\u001b[0m\u001b[0;34m.\u001b[0m\u001b[0mpredict\u001b[0m\u001b[0;34m(\u001b[0m\u001b[0mtest\u001b[0m\u001b[0;34m)\u001b[0m\u001b[0;34m\u001b[0m\u001b[0m\n\u001b[0m\u001b[1;32m      4\u001b[0m \u001b[0;34m\u001b[0m\u001b[0m\n\u001b[1;32m      5\u001b[0m \u001b[0moutput\u001b[0m \u001b[0;34m=\u001b[0m \u001b[0mpd\u001b[0m\u001b[0;34m.\u001b[0m\u001b[0mDataFrame\u001b[0m\u001b[0;34m(\u001b[0m\u001b[0;34m{\u001b[0m\u001b[0;34m'id'\u001b[0m\u001b[0;34m:\u001b[0m \u001b[0mdf_test\u001b[0m\u001b[0;34m[\u001b[0m\u001b[0;34m'ID'\u001b[0m\u001b[0;34m]\u001b[0m\u001b[0;34m.\u001b[0m\u001b[0mastype\u001b[0m\u001b[0;34m(\u001b[0m\u001b[0mnp\u001b[0m\u001b[0;34m.\u001b[0m\u001b[0mint32\u001b[0m\u001b[0;34m)\u001b[0m\u001b[0;34m,\u001b[0m \u001b[0;34m'y'\u001b[0m\u001b[0;34m:\u001b[0m \u001b[0my_pred_XG_L1\u001b[0m\u001b[0;34m}\u001b[0m\u001b[0;34m)\u001b[0m\u001b[0;34m\u001b[0m\u001b[0m\n",
      "\u001b[0;32m/home/anirudh/anaconda/lib/python2.7/site-packages/xgboost/sklearn.pyc\u001b[0m in \u001b[0;36mpredict\u001b[0;34m(self, data, output_margin, ntree_limit)\u001b[0m\n\u001b[1;32m    268\u001b[0m         return self.booster().predict(test_dmatrix,\n\u001b[1;32m    269\u001b[0m                                       \u001b[0moutput_margin\u001b[0m\u001b[0;34m=\u001b[0m\u001b[0moutput_margin\u001b[0m\u001b[0;34m,\u001b[0m\u001b[0;34m\u001b[0m\u001b[0m\n\u001b[0;32m--> 270\u001b[0;31m                                       ntree_limit=ntree_limit)\n\u001b[0m\u001b[1;32m    271\u001b[0m \u001b[0;34m\u001b[0m\u001b[0m\n\u001b[1;32m    272\u001b[0m     \u001b[0;32mdef\u001b[0m \u001b[0mapply\u001b[0m\u001b[0;34m(\u001b[0m\u001b[0mself\u001b[0m\u001b[0;34m,\u001b[0m \u001b[0mX\u001b[0m\u001b[0;34m,\u001b[0m \u001b[0mntree_limit\u001b[0m\u001b[0;34m=\u001b[0m\u001b[0;36m0\u001b[0m\u001b[0;34m)\u001b[0m\u001b[0;34m:\u001b[0m\u001b[0;34m\u001b[0m\u001b[0m\n",
      "\u001b[0;32m/home/anirudh/anaconda/lib/python2.7/site-packages/xgboost/core.pyc\u001b[0m in \u001b[0;36mpredict\u001b[0;34m(self, data, output_margin, ntree_limit, pred_leaf)\u001b[0m\n\u001b[1;32m    937\u001b[0m             \u001b[0moption_mask\u001b[0m \u001b[0;34m|=\u001b[0m \u001b[0;36m0x02\u001b[0m\u001b[0;34m\u001b[0m\u001b[0m\n\u001b[1;32m    938\u001b[0m \u001b[0;34m\u001b[0m\u001b[0m\n\u001b[0;32m--> 939\u001b[0;31m         \u001b[0mself\u001b[0m\u001b[0;34m.\u001b[0m\u001b[0m_validate_features\u001b[0m\u001b[0;34m(\u001b[0m\u001b[0mdata\u001b[0m\u001b[0;34m)\u001b[0m\u001b[0;34m\u001b[0m\u001b[0m\n\u001b[0m\u001b[1;32m    940\u001b[0m \u001b[0;34m\u001b[0m\u001b[0m\n\u001b[1;32m    941\u001b[0m         \u001b[0mlength\u001b[0m \u001b[0;34m=\u001b[0m \u001b[0mctypes\u001b[0m\u001b[0;34m.\u001b[0m\u001b[0mc_ulong\u001b[0m\u001b[0;34m(\u001b[0m\u001b[0;34m)\u001b[0m\u001b[0;34m\u001b[0m\u001b[0m\n",
      "\u001b[0;32m/home/anirudh/anaconda/lib/python2.7/site-packages/xgboost/core.pyc\u001b[0m in \u001b[0;36m_validate_features\u001b[0;34m(self, data)\u001b[0m\n\u001b[1;32m   1177\u001b[0m \u001b[0;34m\u001b[0m\u001b[0m\n\u001b[1;32m   1178\u001b[0m                 raise ValueError(msg.format(self.feature_names,\n\u001b[0;32m-> 1179\u001b[0;31m                                             data.feature_names))\n\u001b[0m\u001b[1;32m   1180\u001b[0m \u001b[0;34m\u001b[0m\u001b[0m\n\u001b[1;32m   1181\u001b[0m     \u001b[0;32mdef\u001b[0m \u001b[0mget_split_value_histogram\u001b[0m\u001b[0;34m(\u001b[0m\u001b[0mself\u001b[0m\u001b[0;34m,\u001b[0m \u001b[0mfeature\u001b[0m\u001b[0;34m,\u001b[0m \u001b[0mfmap\u001b[0m\u001b[0;34m=\u001b[0m\u001b[0;34m''\u001b[0m\u001b[0;34m,\u001b[0m \u001b[0mbins\u001b[0m\u001b[0;34m=\u001b[0m\u001b[0mNone\u001b[0m\u001b[0;34m,\u001b[0m \u001b[0mas_pandas\u001b[0m\u001b[0;34m=\u001b[0m\u001b[0mTrue\u001b[0m\u001b[0;34m)\u001b[0m\u001b[0;34m:\u001b[0m\u001b[0;34m\u001b[0m\u001b[0m\n",
      "\u001b[0;31mValueError\u001b[0m: feature_names mismatch: [u'ID', u'y', u'X0', u'X1', u'X2', u'X3', u'X4', u'X5', u'X6', u'X8', u'X10', u'X11', u'X12', u'X13', u'X14', u'X15', u'X16', u'X17', u'X18', u'X19', u'X20', u'X21', u'X22', u'X23', u'X24', u'X26', u'X27', u'X28', u'X29', u'X30', u'X31', u'X32', u'X33', u'X34', u'X35', u'X36', u'X37', u'X38', u'X39', u'X40', u'X41', u'X42', u'X43', u'X44', u'X45', u'X46', u'X47', u'X48', u'X49', u'X50', u'X51', u'X52', u'X53', u'X54', u'X55', u'X56', u'X57', u'X58', u'X59', u'X60', u'X61', u'X62', u'X63', u'X64', u'X65', u'X66', u'X67', u'X68', u'X69', u'X70', u'X71', u'X73', u'X74', u'X75', u'X76', u'X77', u'X78', u'X79', u'X80', u'X81', u'X82', u'X83', u'X84', u'X85', u'X86', u'X87', u'X88', u'X89', u'X90', u'X91', u'X92', u'X93', u'X94', u'X95', u'X96', u'X97', u'X98', u'X99', u'X100', u'X101', u'X102', u'X103', u'X104', u'X105', u'X106', u'X107', u'X108', u'X109', u'X110', u'X111', u'X112', u'X113', u'X114', u'X115', u'X116', u'X117', u'X118', u'X119', u'X120', u'X122', u'X123', u'X124', u'X125', u'X126', u'X127', u'X128', u'X129', u'X130', u'X131', u'X132', u'X133', u'X134', u'X135', u'X136', u'X137', u'X138', u'X139', u'X140', u'X141', u'X142', u'X143', u'X144', u'X145', u'X146', u'X147', u'X148', u'X150', u'X151', u'X152', u'X153', u'X154', u'X155', u'X156', u'X157', u'X158', u'X159', u'X160', u'X161', u'X162', u'X163', u'X164', u'X165', u'X166', u'X167', u'X168', u'X169', u'X170', u'X171', u'X172', u'X173', u'X174', u'X175', u'X176', u'X177', u'X178', u'X179', u'X180', u'X181', u'X182', u'X183', u'X184', u'X185', u'X186', u'X187', u'X189', u'X190', u'X191', u'X192', u'X194', u'X195', u'X196', u'X197', u'X198', u'X199', u'X200', u'X201', u'X202', u'X203', u'X204', u'X205', u'X206', u'X207', u'X208', u'X209', u'X210', u'X211', u'X212', u'X213', u'X214', u'X215', u'X216', u'X217', u'X218', u'X219', u'X220', u'X221', u'X222', u'X223', u'X224', u'X225', u'X226', u'X227', u'X228', u'X229', u'X230', u'X231', u'X232', u'X233', u'X234', u'X235', u'X236', u'X237', u'X238', u'X239', u'X240', u'X241', u'X242', u'X243', u'X244', u'X245', u'X246', u'X247', u'X248', u'X249', u'X250', u'X251', u'X252', u'X253', u'X254', u'X255', u'X256', u'X257', u'X258', u'X259', u'X260', u'X261', u'X262', u'X263', u'X264', u'X265', u'X266', u'X267', u'X268', u'X269', u'X270', u'X271', u'X272', u'X273', u'X274', u'X275', u'X276', u'X277', u'X278', u'X279', u'X280', u'X281', u'X282', u'X283', u'X284', u'X285', u'X286', u'X287', u'X288', u'X289', u'X290', u'X291', u'X292', u'X293', u'X294', u'X295', u'X296', u'X297', u'X298', u'X299', u'X300', u'X301', u'X302', u'X304', u'X305', u'X306', u'X307', u'X308', u'X309', u'X310', u'X311', u'X312', u'X313', u'X314', u'X315', u'X316', u'X317', u'X318', u'X319', u'X320', u'X321', u'X322', u'X323', u'X324', u'X325', u'X326', u'X327', u'X328', u'X329', u'X330', u'X331', u'X332', u'X333', u'X334', u'X335', u'X336', u'X337', u'X338', u'X339', u'X340', u'X341', u'X342', u'X343', u'X344', u'X345', u'X346', u'X347', u'X348', u'X349', u'X350', u'X351', u'X352', u'X353', u'X354', u'X355', u'X356', u'X357', u'X358', u'X359', u'X360', u'X361', u'X362', u'X363', u'X364', u'X365', u'X366', u'X367', u'X368', u'X369', u'X370', u'X371', u'X372', u'X373', u'X374', u'X375', u'X376', u'X377', u'X378', u'X379', u'X380', u'X382', u'X383', u'X384', u'X385', u'pca_1', u'ica_1', u'pca_2', u'ica_2', u'pca_3', u'ica_3', u'pca_4', u'ica_4', u'pca_5', u'ica_5', u'pca_6', u'ica_6', u'pca_7', u'ica_7', u'pca_8', u'ica_8', u'pca_9', u'ica_9', u'pca_10', u'ica_10', u'pca_11', u'ica_11', u'pca_12', u'ica_12', u'pca_13', u'ica_13', u'pca_14', u'ica_14', u'pca_15', u'ica_15', u'pca_16', u'ica_16', u'pca_17', u'ica_17', u'pca_18', u'ica_18', u'pca_19', u'ica_19', u'pca_20', u'ica_20', u'pca_21', u'ica_21', u'pca_22', u'ica_22', u'pca_23', u'ica_23', u'pca_24', u'ica_24', u'pca_25', u'ica_25', u'pca_26', u'ica_26', u'pca_27', u'ica_27', u'pca_28', u'ica_28', u'pca_29', u'ica_29', u'pca_30', u'ica_30', u'pca_31', u'ica_31', u'pca_32', u'ica_32', u'pca_33', u'ica_33', u'pca_34', u'ica_34', u'pca_35', u'ica_35', u'pca_36', u'ica_36', u'pca_37', u'ica_37', u'pca_38', u'ica_38', u'pca_39', u'ica_39', u'pca_40', u'ica_40', u'pca_41', u'ica_41', u'pca_42', u'ica_42', u'pca_43', u'ica_43', u'pca_44', u'ica_44', u'pca_45', u'ica_45', u'pca_46', u'ica_46', u'pca_47', u'ica_47', u'pca_48', u'ica_48', u'pca_49', u'ica_49', u'pca_50', u'ica_50', u'pca_51', u'ica_51', u'pca_52', u'ica_52', u'pca_53', u'ica_53', u'pca_54', u'ica_54', u'pca_55', u'ica_55', u'pca_56', u'ica_56', u'pca_57', u'ica_57', u'pca_58', u'ica_58', u'pca_59', u'ica_59', u'pca_60', u'ica_60', u'pca_61', u'ica_61', u'pca_62', u'ica_62', u'pca_63', u'ica_63', u'pca_64', u'ica_64', u'pca_65', u'ica_65', u'pca_66', u'ica_66', u'pca_67', u'ica_67', u'pca_68', u'ica_68', u'pca_69', u'ica_69', u'pca_70', u'ica_70', u'pca_71', u'ica_71', u'pca_72', u'ica_72', u'pca_73', u'ica_73', u'pca_74', u'ica_74', u'pca_75', u'ica_75', u'pca_76', u'ica_76', u'pca_77', u'ica_77', u'pca_78', u'ica_78', u'pca_79', u'ica_79', u'pca_80', u'ica_80', u'pca_81', u'ica_81', u'pca_82', u'ica_82', u'pca_83', u'ica_83', u'pca_84', u'ica_84', u'pca_85', u'ica_85', u'pca_86', u'ica_86', u'pca_87', u'ica_87', u'pca_88', u'ica_88', u'pca_89', u'ica_89', u'pca_90', u'ica_90', u'pca_91', u'ica_91', u'pca_92', u'ica_92', u'pca_93', u'ica_93', u'pca_94', u'ica_94', u'pca_95', u'ica_95', u'pca_96', u'ica_96', u'pca_97', u'ica_97', u'pca_98', u'ica_98', u'pca_99', u'ica_99', u'pca_100', u'ica_100', u'pca_101', u'ica_101', u'pca_102', u'ica_102', u'pca_103', u'ica_103', u'pca_104', u'ica_104', u'pca_105', u'ica_105', u'pca_106', u'ica_106', u'pca_107', u'ica_107', u'pca_108', u'ica_108', u'pca_109', u'ica_109', u'pca_110', u'ica_110', u'pca_111', u'ica_111', u'pca_112', u'ica_112', u'pca_113', u'ica_113', u'pca_114', u'ica_114', u'pca_115', u'ica_115', u'pca_116', u'ica_116', u'pca_117', u'ica_117', u'pca_118', u'ica_118', u'pca_119', u'ica_119', u'pca_120', u'ica_120', u'pca_121', u'ica_121', u'pca_122', u'ica_122', u'pca_123', u'ica_123', u'pca_124', u'ica_124', u'pca_125', u'ica_125', u'pca_126', u'ica_126', u'pca_127', u'ica_127', u'pca_128', u'ica_128', u'pca_129', u'ica_129', u'pca_130', u'ica_130', u'pca_131', u'ica_131', u'pca_132', u'ica_132', u'pca_133', u'ica_133', u'pca_134', u'ica_134', u'pca_135', u'ica_135', u'pca_136', u'ica_136', u'pca_137', u'ica_137', u'pca_138', u'ica_138', u'pca_139', u'ica_139', u'pca_140', u'ica_140', u'pca_141', u'ica_141', u'pca_142', u'ica_142', u'pca_143', u'ica_143', u'pca_144', u'ica_144', u'pca_145', u'ica_145', u'pca_146', u'ica_146', u'pca_147', u'ica_147', u'pca_148', u'ica_148', u'pca_149', u'ica_149', u'pca_150', u'ica_150', u'pca_151', u'ica_151', u'pca_152', u'ica_152', u'pca_153', u'ica_153', u'pca_154', u'ica_154', u'pca_155', u'ica_155', u'pca_156', u'ica_156', u'pca_157', u'ica_157', u'pca_158', u'ica_158', u'pca_159', u'ica_159', u'pca_160', u'ica_160', u'pca_161', u'ica_161', u'pca_162', u'ica_162', u'pca_163', u'ica_163', u'pca_164', u'ica_164', u'pca_165', u'ica_165', u'pca_166', u'ica_166', u'pca_167', u'ica_167', u'pca_168', u'ica_168', u'pca_169', u'ica_169', u'pca_170', u'ica_170', u'pca_171', u'ica_171', u'pca_172', u'ica_172', u'pca_173', u'ica_173', u'pca_174', u'ica_174', u'pca_175', u'ica_175', u'pca_176', u'ica_176', u'pca_177', u'ica_177', u'pca_178', u'ica_178', u'pca_179', u'ica_179', u'pca_180', u'ica_180', u'pca_181', u'ica_181', u'pca_182', u'ica_182', u'pca_183', u'ica_183', u'pca_184', u'ica_184', u'pca_185', u'ica_185', u'pca_186', u'ica_186', u'pca_187', u'ica_187', u'pca_188', u'ica_188', u'pca_189', u'ica_189', u'pca_190', u'ica_190', u'pca_191', u'ica_191', u'pca_192', u'ica_192', u'pca_193', u'ica_193', u'pca_194', u'ica_194', u'pca_195', u'ica_195', u'pca_196', u'ica_196', u'pca_197', u'ica_197', u'pca_198', u'ica_198', u'pca_199', u'ica_199', u'pca_200', u'ica_200', u'pca_201', u'ica_201', u'pca_202', u'ica_202', u'pca_203', u'ica_203', u'pca_204', u'ica_204', u'pca_205', u'ica_205', u'pca_206', u'ica_206', u'pca_207', u'ica_207', u'pca_208', u'ica_208', u'pca_209', u'ica_209', u'pca_210', u'ica_210', u'pca_211', u'ica_211', u'pca_212', u'ica_212', u'pca_213', u'ica_213', u'pca_214', u'ica_214', u'pca_215', u'ica_215', u'pca_216', u'ica_216', u'pca_217', u'ica_217', u'pca_218', u'ica_218', u'pca_219', u'ica_219', u'pca_220', u'ica_220', u'pca_221', u'ica_221', u'pca_222', u'ica_222', u'pca_223', u'ica_223', u'pca_224', u'ica_224', u'pca_225', u'ica_225', u'pca_226', u'ica_226', u'pca_227', u'ica_227', u'pca_228', u'ica_228', u'pca_229', u'ica_229', u'pca_230', u'ica_230', u'pca_231', u'ica_231', u'pca_232', u'ica_232', u'pca_233', u'ica_233', u'pca_234', u'ica_234', u'pca_235', u'ica_235', u'pca_236', u'ica_236', u'pca_237', u'ica_237', u'pca_238', u'ica_238', u'pca_239', u'ica_239', u'pca_240', u'ica_240', u'pca_241', u'ica_241', u'pca_242', u'ica_242', u'pca_243', u'ica_243', u'pca_244', u'ica_244', u'pca_245', u'ica_245', u'pca_246', u'ica_246', u'pca_247', u'ica_247', u'pca_248', u'ica_248', u'pca_249', u'ica_249', u'pca_250', u'ica_250', u'pca_251', u'ica_251', u'pca_252', u'ica_252', u'pca_253', u'ica_253', u'pca_254', u'ica_254', u'pca_255', u'ica_255', u'pca_256', u'ica_256', u'pca_257', u'ica_257', u'pca_258', u'ica_258', u'pca_259', u'ica_259', u'pca_260', u'ica_260', u'pca_261', u'ica_261', u'pca_262', u'ica_262', u'pca_263', u'ica_263', u'pca_264', u'ica_264', u'pca_265', u'ica_265', u'pca_266', u'ica_266', u'pca_267', u'ica_267', u'pca_268', u'ica_268', u'pca_269', u'ica_269', u'pca_270', u'ica_270', u'pca_271', u'ica_271', u'pca_272', u'ica_272', u'pca_273', u'ica_273', u'pca_274', u'ica_274', u'pca_275', u'ica_275', u'pca_276', u'ica_276', u'pca_277', u'ica_277', u'pca_278', u'ica_278', u'pca_279', u'ica_279', u'pca_280', u'ica_280', u'pca_281', u'ica_281', u'pca_282', u'ica_282', u'pca_283', u'ica_283', u'pca_284', u'ica_284', u'pca_285', u'ica_285', u'pca_286', u'ica_286', u'pca_287', u'ica_287', u'pca_288', u'ica_288', u'pca_289', u'ica_289', u'pca_290', u'ica_290', u'pca_291', u'ica_291', u'pca_292', u'ica_292', u'pca_293', u'ica_293', u'pca_294', u'ica_294', u'pca_295', u'ica_295', u'pca_296', u'ica_296', u'pca_297', u'ica_297', u'pca_298', u'ica_298', u'pca_299', u'ica_299', u'pca_300', u'ica_300', u'pca_301', u'ica_301', u'pca_302', u'ica_302', u'pca_303', u'ica_303', u'pca_304', u'ica_304', u'pca_305', u'ica_305', u'pca_306', u'ica_306', u'pca_307', u'ica_307', u'pca_308', u'ica_308', u'pca_309', u'ica_309', u'pca_310', u'ica_310', u'pca_311', u'ica_311', u'pca_312', u'ica_312', u'pca_313', u'ica_313', u'pca_314', u'ica_314', u'pca_315', u'ica_315', u'pca_316', u'ica_316', u'pca_317', u'ica_317', u'pca_318', u'ica_318', u'pca_319', u'ica_319', u'pca_320', u'ica_320', u'pca_321', u'ica_321', u'pca_322', u'ica_322', u'pca_323', u'ica_323', u'pca_324', u'ica_324', u'pca_325', u'ica_325', u'pca_326', u'ica_326', u'pca_327', u'ica_327', u'pca_328', u'ica_328', u'pca_329', u'ica_329', u'pca_330', u'ica_330', u'pca_331', u'ica_331', u'pca_332', u'ica_332', u'pca_333', u'ica_333', u'pca_334', u'ica_334', u'pca_335', u'ica_335', u'pca_336', u'ica_336', u'pca_337', u'ica_337', u'pca_338', u'ica_338', u'pca_339', u'ica_339', u'pca_340', u'ica_340', u'pca_341', u'ica_341', u'pca_342', u'ica_342', u'pca_343', u'ica_343', u'pca_344', u'ica_344', u'pca_345', u'ica_345', u'pca_346', u'ica_346', u'pca_347', u'ica_347', u'pca_348', u'ica_348', u'pca_349', u'ica_349', u'pca_350', u'ica_350', u'pca_351', u'ica_351', u'pca_352', u'ica_352', u'pca_353', u'ica_353', u'pca_354', u'ica_354', u'pca_355', u'ica_355', u'pca_356', u'ica_356', u'pca_357', u'ica_357', u'pca_358', u'ica_358', u'pca_359', u'ica_359', u'pca_360', u'ica_360', u'pca_361', u'ica_361', u'pca_362', u'ica_362', u'pca_363', u'ica_363', u'pca_364', u'ica_364', u'pca_365', u'ica_365', u'pca_366', u'ica_366', u'pca_367', u'ica_367', u'pca_368', u'ica_368', u'pca_369', u'ica_369', u'pca_370', u'ica_370', u'pca_371', u'ica_371', u'pca_372', u'ica_372', u'pca_373', u'ica_373', u'pca_374', u'ica_374', u'pca_375', u'ica_375', u'pca_376', u'ica_376', u'pca_377', u'ica_377'] [u'ID', u'X0', u'X1', u'X2', u'X3', u'X4', u'X5', u'X6', u'X8', u'X10', u'X11', u'X12', u'X13', u'X14', u'X15', u'X16', u'X17', u'X18', u'X19', u'X20', u'X21', u'X22', u'X23', u'X24', u'X26', u'X27', u'X28', u'X29', u'X30', u'X31', u'X32', u'X33', u'X34', u'X35', u'X36', u'X37', u'X38', u'X39', u'X40', u'X41', u'X42', u'X43', u'X44', u'X45', u'X46', u'X47', u'X48', u'X49', u'X50', u'X51', u'X52', u'X53', u'X54', u'X55', u'X56', u'X57', u'X58', u'X59', u'X60', u'X61', u'X62', u'X63', u'X64', u'X65', u'X66', u'X67', u'X68', u'X69', u'X70', u'X71', u'X73', u'X74', u'X75', u'X76', u'X77', u'X78', u'X79', u'X80', u'X81', u'X82', u'X83', u'X84', u'X85', u'X86', u'X87', u'X88', u'X89', u'X90', u'X91', u'X92', u'X93', u'X94', u'X95', u'X96', u'X97', u'X98', u'X99', u'X100', u'X101', u'X102', u'X103', u'X104', u'X105', u'X106', u'X107', u'X108', u'X109', u'X110', u'X111', u'X112', u'X113', u'X114', u'X115', u'X116', u'X117', u'X118', u'X119', u'X120', u'X122', u'X123', u'X124', u'X125', u'X126', u'X127', u'X128', u'X129', u'X130', u'X131', u'X132', u'X133', u'X134', u'X135', u'X136', u'X137', u'X138', u'X139', u'X140', u'X141', u'X142', u'X143', u'X144', u'X145', u'X146', u'X147', u'X148', u'X150', u'X151', u'X152', u'X153', u'X154', u'X155', u'X156', u'X157', u'X158', u'X159', u'X160', u'X161', u'X162', u'X163', u'X164', u'X165', u'X166', u'X167', u'X168', u'X169', u'X170', u'X171', u'X172', u'X173', u'X174', u'X175', u'X176', u'X177', u'X178', u'X179', u'X180', u'X181', u'X182', u'X183', u'X184', u'X185', u'X186', u'X187', u'X189', u'X190', u'X191', u'X192', u'X194', u'X195', u'X196', u'X197', u'X198', u'X199', u'X200', u'X201', u'X202', u'X203', u'X204', u'X205', u'X206', u'X207', u'X208', u'X209', u'X210', u'X211', u'X212', u'X213', u'X214', u'X215', u'X216', u'X217', u'X218', u'X219', u'X220', u'X221', u'X222', u'X223', u'X224', u'X225', u'X226', u'X227', u'X228', u'X229', u'X230', u'X231', u'X232', u'X233', u'X234', u'X235', u'X236', u'X237', u'X238', u'X239', u'X240', u'X241', u'X242', u'X243', u'X244', u'X245', u'X246', u'X247', u'X248', u'X249', u'X250', u'X251', u'X252', u'X253', u'X254', u'X255', u'X256', u'X257', u'X258', u'X259', u'X260', u'X261', u'X262', u'X263', u'X264', u'X265', u'X266', u'X267', u'X268', u'X269', u'X270', u'X271', u'X272', u'X273', u'X274', u'X275', u'X276', u'X277', u'X278', u'X279', u'X280', u'X281', u'X282', u'X283', u'X284', u'X285', u'X286', u'X287', u'X288', u'X289', u'X290', u'X291', u'X292', u'X293', u'X294', u'X295', u'X296', u'X297', u'X298', u'X299', u'X300', u'X301', u'X302', u'X304', u'X305', u'X306', u'X307', u'X308', u'X309', u'X310', u'X311', u'X312', u'X313', u'X314', u'X315', u'X316', u'X317', u'X318', u'X319', u'X320', u'X321', u'X322', u'X323', u'X324', u'X325', u'X326', u'X327', u'X328', u'X329', u'X330', u'X331', u'X332', u'X333', u'X334', u'X335', u'X336', u'X337', u'X338', u'X339', u'X340', u'X341', u'X342', u'X343', u'X344', u'X345', u'X346', u'X347', u'X348', u'X349', u'X350', u'X351', u'X352', u'X353', u'X354', u'X355', u'X356', u'X357', u'X358', u'X359', u'X360', u'X361', u'X362', u'X363', u'X364', u'X365', u'X366', u'X367', u'X368', u'X369', u'X370', u'X371', u'X372', u'X373', u'X374', u'X375', u'X376', u'X377', u'X378', u'X379', u'X380', u'X382', u'X383', u'X384', u'X385', u'pca_1', u'ica_1', u'pca_2', u'ica_2', u'pca_3', u'ica_3', u'pca_4', u'ica_4', u'pca_5', u'ica_5', u'pca_6', u'ica_6', u'pca_7', u'ica_7', u'pca_8', u'ica_8', u'pca_9', u'ica_9', u'pca_10', u'ica_10', u'pca_11', u'ica_11', u'pca_12', u'ica_12', u'pca_13', u'ica_13', u'pca_14', u'ica_14', u'pca_15', u'ica_15', u'pca_16', u'ica_16', u'pca_17', u'ica_17', u'pca_18', u'ica_18', u'pca_19', u'ica_19', u'pca_20', u'ica_20', u'pca_21', u'ica_21', u'pca_22', u'ica_22', u'pca_23', u'ica_23', u'pca_24', u'ica_24', u'pca_25', u'ica_25', u'pca_26', u'ica_26', u'pca_27', u'ica_27', u'pca_28', u'ica_28', u'pca_29', u'ica_29', u'pca_30', u'ica_30', u'pca_31', u'ica_31', u'pca_32', u'ica_32', u'pca_33', u'ica_33', u'pca_34', u'ica_34', u'pca_35', u'ica_35', u'pca_36', u'ica_36', u'pca_37', u'ica_37', u'pca_38', u'ica_38', u'pca_39', u'ica_39', u'pca_40', u'ica_40', u'pca_41', u'ica_41', u'pca_42', u'ica_42', u'pca_43', u'ica_43', u'pca_44', u'ica_44', u'pca_45', u'ica_45', u'pca_46', u'ica_46', u'pca_47', u'ica_47', u'pca_48', u'ica_48', u'pca_49', u'ica_49', u'pca_50', u'ica_50', u'pca_51', u'ica_51', u'pca_52', u'ica_52', u'pca_53', u'ica_53', u'pca_54', u'ica_54', u'pca_55', u'ica_55', u'pca_56', u'ica_56', u'pca_57', u'ica_57', u'pca_58', u'ica_58', u'pca_59', u'ica_59', u'pca_60', u'ica_60', u'pca_61', u'ica_61', u'pca_62', u'ica_62', u'pca_63', u'ica_63', u'pca_64', u'ica_64', u'pca_65', u'ica_65', u'pca_66', u'ica_66', u'pca_67', u'ica_67', u'pca_68', u'ica_68', u'pca_69', u'ica_69', u'pca_70', u'ica_70', u'pca_71', u'ica_71', u'pca_72', u'ica_72', u'pca_73', u'ica_73', u'pca_74', u'ica_74', u'pca_75', u'ica_75', u'pca_76', u'ica_76', u'pca_77', u'ica_77', u'pca_78', u'ica_78', u'pca_79', u'ica_79', u'pca_80', u'ica_80', u'pca_81', u'ica_81', u'pca_82', u'ica_82', u'pca_83', u'ica_83', u'pca_84', u'ica_84', u'pca_85', u'ica_85', u'pca_86', u'ica_86', u'pca_87', u'ica_87', u'pca_88', u'ica_88', u'pca_89', u'ica_89', u'pca_90', u'ica_90', u'pca_91', u'ica_91', u'pca_92', u'ica_92', u'pca_93', u'ica_93', u'pca_94', u'ica_94', u'pca_95', u'ica_95', u'pca_96', u'ica_96', u'pca_97', u'ica_97', u'pca_98', u'ica_98', u'pca_99', u'ica_99', u'pca_100', u'ica_100', u'pca_101', u'ica_101', u'pca_102', u'ica_102', u'pca_103', u'ica_103', u'pca_104', u'ica_104', u'pca_105', u'ica_105', u'pca_106', u'ica_106', u'pca_107', u'ica_107', u'pca_108', u'ica_108', u'pca_109', u'ica_109', u'pca_110', u'ica_110', u'pca_111', u'ica_111', u'pca_112', u'ica_112', u'pca_113', u'ica_113', u'pca_114', u'ica_114', u'pca_115', u'ica_115', u'pca_116', u'ica_116', u'pca_117', u'ica_117', u'pca_118', u'ica_118', u'pca_119', u'ica_119', u'pca_120', u'ica_120', u'pca_121', u'ica_121', u'pca_122', u'ica_122', u'pca_123', u'ica_123', u'pca_124', u'ica_124', u'pca_125', u'ica_125', u'pca_126', u'ica_126', u'pca_127', u'ica_127', u'pca_128', u'ica_128', u'pca_129', u'ica_129', u'pca_130', u'ica_130', u'pca_131', u'ica_131', u'pca_132', u'ica_132', u'pca_133', u'ica_133', u'pca_134', u'ica_134', u'pca_135', u'ica_135', u'pca_136', u'ica_136', u'pca_137', u'ica_137', u'pca_138', u'ica_138', u'pca_139', u'ica_139', u'pca_140', u'ica_140', u'pca_141', u'ica_141', u'pca_142', u'ica_142', u'pca_143', u'ica_143', u'pca_144', u'ica_144', u'pca_145', u'ica_145', u'pca_146', u'ica_146', u'pca_147', u'ica_147', u'pca_148', u'ica_148', u'pca_149', u'ica_149', u'pca_150', u'ica_150', u'pca_151', u'ica_151', u'pca_152', u'ica_152', u'pca_153', u'ica_153', u'pca_154', u'ica_154', u'pca_155', u'ica_155', u'pca_156', u'ica_156', u'pca_157', u'ica_157', u'pca_158', u'ica_158', u'pca_159', u'ica_159', u'pca_160', u'ica_160', u'pca_161', u'ica_161', u'pca_162', u'ica_162', u'pca_163', u'ica_163', u'pca_164', u'ica_164', u'pca_165', u'ica_165', u'pca_166', u'ica_166', u'pca_167', u'ica_167', u'pca_168', u'ica_168', u'pca_169', u'ica_169', u'pca_170', u'ica_170', u'pca_171', u'ica_171', u'pca_172', u'ica_172', u'pca_173', u'ica_173', u'pca_174', u'ica_174', u'pca_175', u'ica_175', u'pca_176', u'ica_176', u'pca_177', u'ica_177', u'pca_178', u'ica_178', u'pca_179', u'ica_179', u'pca_180', u'ica_180', u'pca_181', u'ica_181', u'pca_182', u'ica_182', u'pca_183', u'ica_183', u'pca_184', u'ica_184', u'pca_185', u'ica_185', u'pca_186', u'ica_186', u'pca_187', u'ica_187', u'pca_188', u'ica_188', u'pca_189', u'ica_189', u'pca_190', u'ica_190', u'pca_191', u'ica_191', u'pca_192', u'ica_192', u'pca_193', u'ica_193', u'pca_194', u'ica_194', u'pca_195', u'ica_195', u'pca_196', u'ica_196', u'pca_197', u'ica_197', u'pca_198', u'ica_198', u'pca_199', u'ica_199', u'pca_200', u'ica_200', u'pca_201', u'ica_201', u'pca_202', u'ica_202', u'pca_203', u'ica_203', u'pca_204', u'ica_204', u'pca_205', u'ica_205', u'pca_206', u'ica_206', u'pca_207', u'ica_207', u'pca_208', u'ica_208', u'pca_209', u'ica_209', u'pca_210', u'ica_210', u'pca_211', u'ica_211', u'pca_212', u'ica_212', u'pca_213', u'ica_213', u'pca_214', u'ica_214', u'pca_215', u'ica_215', u'pca_216', u'ica_216', u'pca_217', u'ica_217', u'pca_218', u'ica_218', u'pca_219', u'ica_219', u'pca_220', u'ica_220', u'pca_221', u'ica_221', u'pca_222', u'ica_222', u'pca_223', u'ica_223', u'pca_224', u'ica_224', u'pca_225', u'ica_225', u'pca_226', u'ica_226', u'pca_227', u'ica_227', u'pca_228', u'ica_228', u'pca_229', u'ica_229', u'pca_230', u'ica_230', u'pca_231', u'ica_231', u'pca_232', u'ica_232', u'pca_233', u'ica_233', u'pca_234', u'ica_234', u'pca_235', u'ica_235', u'pca_236', u'ica_236', u'pca_237', u'ica_237', u'pca_238', u'ica_238', u'pca_239', u'ica_239', u'pca_240', u'ica_240', u'pca_241', u'ica_241', u'pca_242', u'ica_242', u'pca_243', u'ica_243', u'pca_244', u'ica_244', u'pca_245', u'ica_245', u'pca_246', u'ica_246', u'pca_247', u'ica_247', u'pca_248', u'ica_248', u'pca_249', u'ica_249', u'pca_250', u'ica_250', u'pca_251', u'ica_251', u'pca_252', u'ica_252', u'pca_253', u'ica_253', u'pca_254', u'ica_254', u'pca_255', u'ica_255', u'pca_256', u'ica_256', u'pca_257', u'ica_257', u'pca_258', u'ica_258', u'pca_259', u'ica_259', u'pca_260', u'ica_260', u'pca_261', u'ica_261', u'pca_262', u'ica_262', u'pca_263', u'ica_263', u'pca_264', u'ica_264', u'pca_265', u'ica_265', u'pca_266', u'ica_266', u'pca_267', u'ica_267', u'pca_268', u'ica_268', u'pca_269', u'ica_269', u'pca_270', u'ica_270', u'pca_271', u'ica_271', u'pca_272', u'ica_272', u'pca_273', u'ica_273', u'pca_274', u'ica_274', u'pca_275', u'ica_275', u'pca_276', u'ica_276', u'pca_277', u'ica_277', u'pca_278', u'ica_278', u'pca_279', u'ica_279', u'pca_280', u'ica_280', u'pca_281', u'ica_281', u'pca_282', u'ica_282', u'pca_283', u'ica_283', u'pca_284', u'ica_284', u'pca_285', u'ica_285', u'pca_286', u'ica_286', u'pca_287', u'ica_287', u'pca_288', u'ica_288', u'pca_289', u'ica_289', u'pca_290', u'ica_290', u'pca_291', u'ica_291', u'pca_292', u'ica_292', u'pca_293', u'ica_293', u'pca_294', u'ica_294', u'pca_295', u'ica_295', u'pca_296', u'ica_296', u'pca_297', u'ica_297', u'pca_298', u'ica_298', u'pca_299', u'ica_299', u'pca_300', u'ica_300', u'pca_301', u'ica_301', u'pca_302', u'ica_302', u'pca_303', u'ica_303', u'pca_304', u'ica_304', u'pca_305', u'ica_305', u'pca_306', u'ica_306', u'pca_307', u'ica_307', u'pca_308', u'ica_308', u'pca_309', u'ica_309', u'pca_310', u'ica_310', u'pca_311', u'ica_311', u'pca_312', u'ica_312', u'pca_313', u'ica_313', u'pca_314', u'ica_314', u'pca_315', u'ica_315', u'pca_316', u'ica_316', u'pca_317', u'ica_317', u'pca_318', u'ica_318', u'pca_319', u'ica_319', u'pca_320', u'ica_320', u'pca_321', u'ica_321', u'pca_322', u'ica_322', u'pca_323', u'ica_323', u'pca_324', u'ica_324', u'pca_325', u'ica_325', u'pca_326', u'ica_326', u'pca_327', u'ica_327', u'pca_328', u'ica_328', u'pca_329', u'ica_329', u'pca_330', u'ica_330', u'pca_331', u'ica_331', u'pca_332', u'ica_332', u'pca_333', u'ica_333', u'pca_334', u'ica_334', u'pca_335', u'ica_335', u'pca_336', u'ica_336', u'pca_337', u'ica_337', u'pca_338', u'ica_338', u'pca_339', u'ica_339', u'pca_340', u'ica_340', u'pca_341', u'ica_341', u'pca_342', u'ica_342', u'pca_343', u'ica_343', u'pca_344', u'ica_344', u'pca_345', u'ica_345', u'pca_346', u'ica_346', u'pca_347', u'ica_347', u'pca_348', u'ica_348', u'pca_349', u'ica_349', u'pca_350', u'ica_350', u'pca_351', u'ica_351', u'pca_352', u'ica_352', u'pca_353', u'ica_353', u'pca_354', u'ica_354', u'pca_355', u'ica_355', u'pca_356', u'ica_356', u'pca_357', u'ica_357', u'pca_358', u'ica_358', u'pca_359', u'ica_359', u'pca_360', u'ica_360', u'pca_361', u'ica_361', u'pca_362', u'ica_362', u'pca_363', u'ica_363', u'pca_364', u'ica_364', u'pca_365', u'ica_365', u'pca_366', u'ica_366', u'pca_367', u'ica_367', u'pca_368', u'ica_368', u'pca_369', u'ica_369', u'pca_370', u'ica_370', u'pca_371', u'ica_371', u'pca_372', u'ica_372', u'pca_373', u'ica_373', u'pca_374', u'ica_374', u'pca_375', u'ica_375', u'pca_376', u'ica_376', u'pca_377', u'ica_377']\nexpected y in input data"
     ]
    }
   ],
   "source": [
    "R_XG_L1 = XGBRegressor()\n",
    "R_XG_L1.fit(train.drop(),y)\n",
    "y_pred_XG_L1 = R_XG_L1.predict(test)\n",
    "\n",
    "output = pd.DataFrame({'id': df_test['ID'].astype(np.int32), 'y': y_pred_XG_L1})\n",
    "output.to_csv('try2_XGBLevel1.csv', index=False)"
   ]
  },
  {
   "cell_type": "code",
   "execution_count": null,
   "metadata": {
    "collapsed": true
   },
   "outputs": [],
   "source": []
  }
 ],
 "metadata": {
  "kernelspec": {
   "display_name": "Python 2",
   "language": "python",
   "name": "python2"
  },
  "language_info": {
   "codemirror_mode": {
    "name": "ipython",
    "version": 2
   },
   "file_extension": ".py",
   "mimetype": "text/x-python",
   "name": "python",
   "nbconvert_exporter": "python",
   "pygments_lexer": "ipython2",
   "version": "2.7.13"
  }
 },
 "nbformat": 4,
 "nbformat_minor": 2
}
